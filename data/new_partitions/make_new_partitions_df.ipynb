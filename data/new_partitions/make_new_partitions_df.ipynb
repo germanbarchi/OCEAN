{
 "cells": [
  {
   "cell_type": "code",
   "execution_count": 43,
   "metadata": {},
   "outputs": [],
   "source": [
    "import pandas as pd\n",
    "import glob"
   ]
  },
  {
   "cell_type": "code",
   "execution_count": 89,
   "metadata": {},
   "outputs": [],
   "source": [
    "features_path=glob.glob('../../experiments/feature_data/*.csv')\n",
    "df_new=pd.read_csv('dataset_new_partitions.csv',index_col=0)"
   ]
  },
  {
   "cell_type": "markdown",
   "metadata": {},
   "source": [
    "Create feature datasets with new partition label"
   ]
  },
  {
   "cell_type": "code",
   "execution_count": 90,
   "metadata": {},
   "outputs": [],
   "source": [
    "for features in features_path:\n",
    "    name=features.split('/')[-1]\n",
    "    df_old=pd.read_csv(features)\n",
    "    df_features_new=pd.merge(df_old,df_new[['part_new','filename']],left_on='Name',right_on='filename').drop(columns=['Part','filename']).rename(columns={'part_new':'Part'})\n",
    "    \n",
    "    df_features_new.to_csv('../../experiments/feature_data/new_partitions-'+name)"
   ]
  },
  {
   "cell_type": "markdown",
   "metadata": {},
   "source": [
    "Create new labels dataframe "
   ]
  },
  {
   "cell_type": "code",
   "execution_count": 95,
   "metadata": {},
   "outputs": [],
   "source": [
    "df_labels_old=pd.read_csv('../../data/labels/labels.csv',index_col=0)"
   ]
  },
  {
   "cell_type": "code",
   "execution_count": 102,
   "metadata": {},
   "outputs": [],
   "source": [
    "df_labels_new=pd.merge(df_labels_old,df_new[['part_new','filename']],left_on='audio_tag',right_on='filename').drop(columns=['Partition','filename']).rename(columns={'part_new':'Partition'})"
   ]
  },
  {
   "cell_type": "code",
   "execution_count": 105,
   "metadata": {},
   "outputs": [],
   "source": [
    "df_labels_new.to_csv('../../data/labels/new_partitions-labels.csv')"
   ]
  }
 ],
 "metadata": {
  "interpreter": {
   "hash": "d29ee2a6b024b3ef0af2f29a3df7b0f54a5cbf6eee460d08c8941f471b385dbe"
  },
  "kernelspec": {
   "display_name": "Python 3.10.5",
   "language": "python",
   "name": "python3"
  },
  "language_info": {
   "codemirror_mode": {
    "name": "ipython",
    "version": 3
   },
   "file_extension": ".py",
   "mimetype": "text/x-python",
   "name": "python",
   "nbconvert_exporter": "python",
   "pygments_lexer": "ipython3",
   "version": "3.10.5"
  },
  "orig_nbformat": 4
 },
 "nbformat": 4,
 "nbformat_minor": 2
}
