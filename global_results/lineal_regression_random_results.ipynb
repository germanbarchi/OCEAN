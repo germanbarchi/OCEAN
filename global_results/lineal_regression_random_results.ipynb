{
 "cells": [
  {
   "cell_type": "code",
   "execution_count": 41,
   "metadata": {},
   "outputs": [],
   "source": [
    "import pandas as pd\n",
    "import os\n",
    "import seaborn as sns\n",
    "import matplotlib.pyplot as plt"
   ]
  },
  {
   "cell_type": "markdown",
   "metadata": {},
   "source": [
    "## Data"
   ]
  },
  {
   "cell_type": "code",
   "execution_count": 32,
   "metadata": {},
   "outputs": [],
   "source": [
    "random_all=pd.read_csv('../experiments/egemaps/linear_regression/default/aleatorio/results/data/aleatorio-all_audio_complete_set/performance.csv')\n",
    "random_val=pd.read_csv('../experiments/egemaps/linear_regression/default/aleatorio_mix_val/results/data/aleatorio_mix_val-all_audio_complete_set/performance.csv')\n",
    "\n",
    "random_all_rf=pd.read_csv('../experiments/egemaps/random_forest/default/aleatorio/results/data/aleatorio-all_audio_complete_set/performance.csv')\n",
    "random_val_rf=pd.read_csv('../experiments/egemaps/random_forest/default/aleatorio_mix_val/results/data/aleatorio_mix_val-all_audio_complete_set/performance.csv')\n",
    "\n",
    "random_all['model']='linear_reg'\n",
    "random_all['mix']='all'\n",
    "\n",
    "random_val['model']='linear_reg'\n",
    "random_val['mix']='val'\n",
    "\n",
    "random_all_rf['model']='random_forest'\n",
    "random_all_rf['mix']='all'\n",
    "\n",
    "random_val_rf['model']='random_forest'\n",
    "random_val_rf['mix']='val'"
   ]
  },
  {
   "cell_type": "markdown",
   "metadata": {},
   "source": [
    "## Results"
   ]
  },
  {
   "cell_type": "markdown",
   "metadata": {},
   "source": [
    "All labels mixed - Linear regression"
   ]
  },
  {
   "cell_type": "code",
   "execution_count": 33,
   "metadata": {},
   "outputs": [
    {
     "data": {
      "text/html": [
       "<div>\n",
       "<style scoped>\n",
       "    .dataframe tbody tr th:only-of-type {\n",
       "        vertical-align: middle;\n",
       "    }\n",
       "\n",
       "    .dataframe tbody tr th {\n",
       "        vertical-align: top;\n",
       "    }\n",
       "\n",
       "    .dataframe thead th {\n",
       "        text-align: right;\n",
       "    }\n",
       "</style>\n",
       "<table border=\"1\" class=\"dataframe\">\n",
       "  <thead>\n",
       "    <tr style=\"text-align: right;\">\n",
       "      <th></th>\n",
       "      <th>index</th>\n",
       "      <th>all</th>\n",
       "      <th>O</th>\n",
       "      <th>C</th>\n",
       "      <th>E</th>\n",
       "      <th>A</th>\n",
       "      <th>N</th>\n",
       "      <th>model</th>\n",
       "      <th>mix</th>\n",
       "    </tr>\n",
       "  </thead>\n",
       "  <tbody>\n",
       "    <tr>\n",
       "      <th>0</th>\n",
       "      <td>r2</td>\n",
       "      <td>-0.015889</td>\n",
       "      <td>-0.015300</td>\n",
       "      <td>-0.012783</td>\n",
       "      <td>-0.016187</td>\n",
       "      <td>-0.016373</td>\n",
       "      <td>-0.018800</td>\n",
       "      <td>linear_reg</td>\n",
       "      <td>all</td>\n",
       "    </tr>\n",
       "    <tr>\n",
       "      <th>1</th>\n",
       "      <td>r</td>\n",
       "      <td>NaN</td>\n",
       "      <td>NaN</td>\n",
       "      <td>NaN</td>\n",
       "      <td>NaN</td>\n",
       "      <td>NaN</td>\n",
       "      <td>NaN</td>\n",
       "      <td>linear_reg</td>\n",
       "      <td>all</td>\n",
       "    </tr>\n",
       "    <tr>\n",
       "      <th>2</th>\n",
       "      <td>MAE</td>\n",
       "      <td>0.119133</td>\n",
       "      <td>0.118010</td>\n",
       "      <td>0.127570</td>\n",
       "      <td>0.121501</td>\n",
       "      <td>0.106601</td>\n",
       "      <td>0.121982</td>\n",
       "      <td>linear_reg</td>\n",
       "      <td>all</td>\n",
       "    </tr>\n",
       "    <tr>\n",
       "      <th>3</th>\n",
       "      <td>MSE</td>\n",
       "      <td>0.022046</td>\n",
       "      <td>0.021472</td>\n",
       "      <td>0.024631</td>\n",
       "      <td>0.022683</td>\n",
       "      <td>0.018395</td>\n",
       "      <td>0.023047</td>\n",
       "      <td>linear_reg</td>\n",
       "      <td>all</td>\n",
       "    </tr>\n",
       "    <tr>\n",
       "      <th>4</th>\n",
       "      <td>RMSE</td>\n",
       "      <td>0.148478</td>\n",
       "      <td>0.146535</td>\n",
       "      <td>0.156943</td>\n",
       "      <td>0.150608</td>\n",
       "      <td>0.135629</td>\n",
       "      <td>0.151813</td>\n",
       "      <td>linear_reg</td>\n",
       "      <td>all</td>\n",
       "    </tr>\n",
       "  </tbody>\n",
       "</table>\n",
       "</div>"
      ],
      "text/plain": [
       "  index       all         O         C         E         A         N  \\\n",
       "0    r2 -0.015889 -0.015300 -0.012783 -0.016187 -0.016373 -0.018800   \n",
       "1     r       NaN       NaN       NaN       NaN       NaN       NaN   \n",
       "2   MAE  0.119133  0.118010  0.127570  0.121501  0.106601  0.121982   \n",
       "3   MSE  0.022046  0.021472  0.024631  0.022683  0.018395  0.023047   \n",
       "4  RMSE  0.148478  0.146535  0.156943  0.150608  0.135629  0.151813   \n",
       "\n",
       "        model  mix  \n",
       "0  linear_reg  all  \n",
       "1  linear_reg  all  \n",
       "2  linear_reg  all  \n",
       "3  linear_reg  all  \n",
       "4  linear_reg  all  "
      ]
     },
     "execution_count": 33,
     "metadata": {},
     "output_type": "execute_result"
    }
   ],
   "source": [
    "random_all"
   ]
  },
  {
   "cell_type": "markdown",
   "metadata": {},
   "source": [
    "Val labels mixed - Linear Regression"
   ]
  },
  {
   "cell_type": "code",
   "execution_count": 34,
   "metadata": {},
   "outputs": [
    {
     "data": {
      "text/html": [
       "<div>\n",
       "<style scoped>\n",
       "    .dataframe tbody tr th:only-of-type {\n",
       "        vertical-align: middle;\n",
       "    }\n",
       "\n",
       "    .dataframe tbody tr th {\n",
       "        vertical-align: top;\n",
       "    }\n",
       "\n",
       "    .dataframe thead th {\n",
       "        text-align: right;\n",
       "    }\n",
       "</style>\n",
       "<table border=\"1\" class=\"dataframe\">\n",
       "  <thead>\n",
       "    <tr style=\"text-align: right;\">\n",
       "      <th></th>\n",
       "      <th>index</th>\n",
       "      <th>all</th>\n",
       "      <th>O</th>\n",
       "      <th>C</th>\n",
       "      <th>E</th>\n",
       "      <th>A</th>\n",
       "      <th>N</th>\n",
       "      <th>model</th>\n",
       "      <th>mix</th>\n",
       "    </tr>\n",
       "  </thead>\n",
       "  <tbody>\n",
       "    <tr>\n",
       "      <th>0</th>\n",
       "      <td>r2</td>\n",
       "      <td>-0.244933</td>\n",
       "      <td>-0.276026</td>\n",
       "      <td>-0.208252</td>\n",
       "      <td>-0.274292</td>\n",
       "      <td>-0.186088</td>\n",
       "      <td>-0.280004</td>\n",
       "      <td>linear_reg</td>\n",
       "      <td>val</td>\n",
       "    </tr>\n",
       "    <tr>\n",
       "      <th>1</th>\n",
       "      <td>r</td>\n",
       "      <td>NaN</td>\n",
       "      <td>NaN</td>\n",
       "      <td>NaN</td>\n",
       "      <td>NaN</td>\n",
       "      <td>NaN</td>\n",
       "      <td>NaN</td>\n",
       "      <td>linear_reg</td>\n",
       "      <td>val</td>\n",
       "    </tr>\n",
       "    <tr>\n",
       "      <th>2</th>\n",
       "      <td>MAE</td>\n",
       "      <td>0.129344</td>\n",
       "      <td>0.129932</td>\n",
       "      <td>0.137832</td>\n",
       "      <td>0.133714</td>\n",
       "      <td>0.109503</td>\n",
       "      <td>0.135738</td>\n",
       "      <td>linear_reg</td>\n",
       "      <td>val</td>\n",
       "    </tr>\n",
       "    <tr>\n",
       "      <th>3</th>\n",
       "      <td>MSE</td>\n",
       "      <td>0.026292</td>\n",
       "      <td>0.026239</td>\n",
       "      <td>0.029283</td>\n",
       "      <td>0.027898</td>\n",
       "      <td>0.019293</td>\n",
       "      <td>0.028748</td>\n",
       "      <td>linear_reg</td>\n",
       "      <td>val</td>\n",
       "    </tr>\n",
       "    <tr>\n",
       "      <th>4</th>\n",
       "      <td>RMSE</td>\n",
       "      <td>0.162149</td>\n",
       "      <td>0.161983</td>\n",
       "      <td>0.171122</td>\n",
       "      <td>0.167028</td>\n",
       "      <td>0.138900</td>\n",
       "      <td>0.169552</td>\n",
       "      <td>linear_reg</td>\n",
       "      <td>val</td>\n",
       "    </tr>\n",
       "  </tbody>\n",
       "</table>\n",
       "</div>"
      ],
      "text/plain": [
       "  index       all         O         C         E         A         N  \\\n",
       "0    r2 -0.244933 -0.276026 -0.208252 -0.274292 -0.186088 -0.280004   \n",
       "1     r       NaN       NaN       NaN       NaN       NaN       NaN   \n",
       "2   MAE  0.129344  0.129932  0.137832  0.133714  0.109503  0.135738   \n",
       "3   MSE  0.026292  0.026239  0.029283  0.027898  0.019293  0.028748   \n",
       "4  RMSE  0.162149  0.161983  0.171122  0.167028  0.138900  0.169552   \n",
       "\n",
       "        model  mix  \n",
       "0  linear_reg  val  \n",
       "1  linear_reg  val  \n",
       "2  linear_reg  val  \n",
       "3  linear_reg  val  \n",
       "4  linear_reg  val  "
      ]
     },
     "execution_count": 34,
     "metadata": {},
     "output_type": "execute_result"
    }
   ],
   "source": [
    "random_val"
   ]
  },
  {
   "cell_type": "markdown",
   "metadata": {},
   "source": [
    "All labels mixed - Random forest"
   ]
  },
  {
   "cell_type": "code",
   "execution_count": 35,
   "metadata": {},
   "outputs": [
    {
     "data": {
      "text/html": [
       "<div>\n",
       "<style scoped>\n",
       "    .dataframe tbody tr th:only-of-type {\n",
       "        vertical-align: middle;\n",
       "    }\n",
       "\n",
       "    .dataframe tbody tr th {\n",
       "        vertical-align: top;\n",
       "    }\n",
       "\n",
       "    .dataframe thead th {\n",
       "        text-align: right;\n",
       "    }\n",
       "</style>\n",
       "<table border=\"1\" class=\"dataframe\">\n",
       "  <thead>\n",
       "    <tr style=\"text-align: right;\">\n",
       "      <th></th>\n",
       "      <th>index</th>\n",
       "      <th>all</th>\n",
       "      <th>O</th>\n",
       "      <th>C</th>\n",
       "      <th>E</th>\n",
       "      <th>A</th>\n",
       "      <th>N</th>\n",
       "      <th>model</th>\n",
       "      <th>mix</th>\n",
       "    </tr>\n",
       "  </thead>\n",
       "  <tbody>\n",
       "    <tr>\n",
       "      <th>0</th>\n",
       "      <td>r2</td>\n",
       "      <td>-0.032737</td>\n",
       "      <td>-0.026957</td>\n",
       "      <td>-0.023373</td>\n",
       "      <td>-0.035739</td>\n",
       "      <td>-0.031127</td>\n",
       "      <td>-0.020979</td>\n",
       "      <td>random_forest</td>\n",
       "      <td>all</td>\n",
       "    </tr>\n",
       "    <tr>\n",
       "      <th>1</th>\n",
       "      <td>r</td>\n",
       "      <td>NaN</td>\n",
       "      <td>NaN</td>\n",
       "      <td>NaN</td>\n",
       "      <td>NaN</td>\n",
       "      <td>NaN</td>\n",
       "      <td>NaN</td>\n",
       "      <td>random_forest</td>\n",
       "      <td>all</td>\n",
       "    </tr>\n",
       "    <tr>\n",
       "      <th>2</th>\n",
       "      <td>MAE</td>\n",
       "      <td>0.118157</td>\n",
       "      <td>0.114727</td>\n",
       "      <td>0.126159</td>\n",
       "      <td>0.121812</td>\n",
       "      <td>0.103594</td>\n",
       "      <td>0.121927</td>\n",
       "      <td>random_forest</td>\n",
       "      <td>all</td>\n",
       "    </tr>\n",
       "    <tr>\n",
       "      <th>3</th>\n",
       "      <td>MSE</td>\n",
       "      <td>0.021604</td>\n",
       "      <td>0.020675</td>\n",
       "      <td>0.024027</td>\n",
       "      <td>0.022529</td>\n",
       "      <td>0.017466</td>\n",
       "      <td>0.022813</td>\n",
       "      <td>random_forest</td>\n",
       "      <td>all</td>\n",
       "    </tr>\n",
       "    <tr>\n",
       "      <th>4</th>\n",
       "      <td>RMSE</td>\n",
       "      <td>0.146982</td>\n",
       "      <td>0.143789</td>\n",
       "      <td>0.155005</td>\n",
       "      <td>0.150098</td>\n",
       "      <td>0.132158</td>\n",
       "      <td>0.151040</td>\n",
       "      <td>random_forest</td>\n",
       "      <td>all</td>\n",
       "    </tr>\n",
       "  </tbody>\n",
       "</table>\n",
       "</div>"
      ],
      "text/plain": [
       "  index       all         O         C         E         A         N  \\\n",
       "0    r2 -0.032737 -0.026957 -0.023373 -0.035739 -0.031127 -0.020979   \n",
       "1     r       NaN       NaN       NaN       NaN       NaN       NaN   \n",
       "2   MAE  0.118157  0.114727  0.126159  0.121812  0.103594  0.121927   \n",
       "3   MSE  0.021604  0.020675  0.024027  0.022529  0.017466  0.022813   \n",
       "4  RMSE  0.146982  0.143789  0.155005  0.150098  0.132158  0.151040   \n",
       "\n",
       "           model  mix  \n",
       "0  random_forest  all  \n",
       "1  random_forest  all  \n",
       "2  random_forest  all  \n",
       "3  random_forest  all  \n",
       "4  random_forest  all  "
      ]
     },
     "execution_count": 35,
     "metadata": {},
     "output_type": "execute_result"
    }
   ],
   "source": [
    "random_all_rf"
   ]
  },
  {
   "cell_type": "markdown",
   "metadata": {},
   "source": [
    "Val labels mixed - Random Forest"
   ]
  },
  {
   "cell_type": "code",
   "execution_count": 36,
   "metadata": {},
   "outputs": [
    {
     "data": {
      "text/html": [
       "<div>\n",
       "<style scoped>\n",
       "    .dataframe tbody tr th:only-of-type {\n",
       "        vertical-align: middle;\n",
       "    }\n",
       "\n",
       "    .dataframe tbody tr th {\n",
       "        vertical-align: top;\n",
       "    }\n",
       "\n",
       "    .dataframe thead th {\n",
       "        text-align: right;\n",
       "    }\n",
       "</style>\n",
       "<table border=\"1\" class=\"dataframe\">\n",
       "  <thead>\n",
       "    <tr style=\"text-align: right;\">\n",
       "      <th></th>\n",
       "      <th>index</th>\n",
       "      <th>all</th>\n",
       "      <th>O</th>\n",
       "      <th>C</th>\n",
       "      <th>E</th>\n",
       "      <th>A</th>\n",
       "      <th>N</th>\n",
       "      <th>model</th>\n",
       "      <th>mix</th>\n",
       "    </tr>\n",
       "  </thead>\n",
       "  <tbody>\n",
       "    <tr>\n",
       "      <th>0</th>\n",
       "      <td>r2</td>\n",
       "      <td>-0.191870</td>\n",
       "      <td>-0.247502</td>\n",
       "      <td>-0.178585</td>\n",
       "      <td>-0.225136</td>\n",
       "      <td>-0.162717</td>\n",
       "      <td>-0.228625</td>\n",
       "      <td>random_forest</td>\n",
       "      <td>val</td>\n",
       "    </tr>\n",
       "    <tr>\n",
       "      <th>1</th>\n",
       "      <td>r</td>\n",
       "      <td>NaN</td>\n",
       "      <td>NaN</td>\n",
       "      <td>NaN</td>\n",
       "      <td>NaN</td>\n",
       "      <td>NaN</td>\n",
       "      <td>NaN</td>\n",
       "      <td>random_forest</td>\n",
       "      <td>val</td>\n",
       "    </tr>\n",
       "    <tr>\n",
       "      <th>2</th>\n",
       "      <td>MAE</td>\n",
       "      <td>0.126439</td>\n",
       "      <td>0.128327</td>\n",
       "      <td>0.135582</td>\n",
       "      <td>0.131403</td>\n",
       "      <td>0.109227</td>\n",
       "      <td>0.132193</td>\n",
       "      <td>random_forest</td>\n",
       "      <td>val</td>\n",
       "    </tr>\n",
       "    <tr>\n",
       "      <th>3</th>\n",
       "      <td>MSE</td>\n",
       "      <td>0.025155</td>\n",
       "      <td>0.025652</td>\n",
       "      <td>0.028564</td>\n",
       "      <td>0.026822</td>\n",
       "      <td>0.018913</td>\n",
       "      <td>0.027594</td>\n",
       "      <td>random_forest</td>\n",
       "      <td>val</td>\n",
       "    </tr>\n",
       "    <tr>\n",
       "      <th>4</th>\n",
       "      <td>RMSE</td>\n",
       "      <td>0.158604</td>\n",
       "      <td>0.160163</td>\n",
       "      <td>0.169008</td>\n",
       "      <td>0.163775</td>\n",
       "      <td>0.137524</td>\n",
       "      <td>0.166114</td>\n",
       "      <td>random_forest</td>\n",
       "      <td>val</td>\n",
       "    </tr>\n",
       "  </tbody>\n",
       "</table>\n",
       "</div>"
      ],
      "text/plain": [
       "  index       all         O         C         E         A         N  \\\n",
       "0    r2 -0.191870 -0.247502 -0.178585 -0.225136 -0.162717 -0.228625   \n",
       "1     r       NaN       NaN       NaN       NaN       NaN       NaN   \n",
       "2   MAE  0.126439  0.128327  0.135582  0.131403  0.109227  0.132193   \n",
       "3   MSE  0.025155  0.025652  0.028564  0.026822  0.018913  0.027594   \n",
       "4  RMSE  0.158604  0.160163  0.169008  0.163775  0.137524  0.166114   \n",
       "\n",
       "           model  mix  \n",
       "0  random_forest  val  \n",
       "1  random_forest  val  \n",
       "2  random_forest  val  \n",
       "3  random_forest  val  \n",
       "4  random_forest  val  "
      ]
     },
     "execution_count": 36,
     "metadata": {},
     "output_type": "execute_result"
    }
   ],
   "source": [
    "random_val_rf"
   ]
  },
  {
   "cell_type": "code",
   "execution_count": 38,
   "metadata": {},
   "outputs": [],
   "source": [
    "df=[random_all,random_all_rf,random_val,random_val_rf]"
   ]
  },
  {
   "cell_type": "code",
   "execution_count": 40,
   "metadata": {},
   "outputs": [],
   "source": [
    "df_final=pd.concat(df,ignore_index=True)"
   ]
  },
  {
   "cell_type": "code",
   "execution_count": 44,
   "metadata": {},
   "outputs": [
    {
     "data": {
      "text/html": [
       "<div>\n",
       "<style scoped>\n",
       "    .dataframe tbody tr th:only-of-type {\n",
       "        vertical-align: middle;\n",
       "    }\n",
       "\n",
       "    .dataframe tbody tr th {\n",
       "        vertical-align: top;\n",
       "    }\n",
       "\n",
       "    .dataframe thead th {\n",
       "        text-align: right;\n",
       "    }\n",
       "</style>\n",
       "<table border=\"1\" class=\"dataframe\">\n",
       "  <thead>\n",
       "    <tr style=\"text-align: right;\">\n",
       "      <th></th>\n",
       "      <th>index</th>\n",
       "      <th>all</th>\n",
       "      <th>O</th>\n",
       "      <th>C</th>\n",
       "      <th>E</th>\n",
       "      <th>A</th>\n",
       "      <th>N</th>\n",
       "      <th>model</th>\n",
       "      <th>mix</th>\n",
       "    </tr>\n",
       "  </thead>\n",
       "  <tbody>\n",
       "    <tr>\n",
       "      <th>0</th>\n",
       "      <td>r2</td>\n",
       "      <td>-0.015889</td>\n",
       "      <td>-0.015300</td>\n",
       "      <td>-0.012783</td>\n",
       "      <td>-0.016187</td>\n",
       "      <td>-0.016373</td>\n",
       "      <td>-0.018800</td>\n",
       "      <td>linear_reg</td>\n",
       "      <td>all</td>\n",
       "    </tr>\n",
       "    <tr>\n",
       "      <th>1</th>\n",
       "      <td>r</td>\n",
       "      <td>NaN</td>\n",
       "      <td>NaN</td>\n",
       "      <td>NaN</td>\n",
       "      <td>NaN</td>\n",
       "      <td>NaN</td>\n",
       "      <td>NaN</td>\n",
       "      <td>linear_reg</td>\n",
       "      <td>all</td>\n",
       "    </tr>\n",
       "    <tr>\n",
       "      <th>2</th>\n",
       "      <td>MAE</td>\n",
       "      <td>0.119133</td>\n",
       "      <td>0.118010</td>\n",
       "      <td>0.127570</td>\n",
       "      <td>0.121501</td>\n",
       "      <td>0.106601</td>\n",
       "      <td>0.121982</td>\n",
       "      <td>linear_reg</td>\n",
       "      <td>all</td>\n",
       "    </tr>\n",
       "    <tr>\n",
       "      <th>3</th>\n",
       "      <td>MSE</td>\n",
       "      <td>0.022046</td>\n",
       "      <td>0.021472</td>\n",
       "      <td>0.024631</td>\n",
       "      <td>0.022683</td>\n",
       "      <td>0.018395</td>\n",
       "      <td>0.023047</td>\n",
       "      <td>linear_reg</td>\n",
       "      <td>all</td>\n",
       "    </tr>\n",
       "    <tr>\n",
       "      <th>4</th>\n",
       "      <td>RMSE</td>\n",
       "      <td>0.148478</td>\n",
       "      <td>0.146535</td>\n",
       "      <td>0.156943</td>\n",
       "      <td>0.150608</td>\n",
       "      <td>0.135629</td>\n",
       "      <td>0.151813</td>\n",
       "      <td>linear_reg</td>\n",
       "      <td>all</td>\n",
       "    </tr>\n",
       "    <tr>\n",
       "      <th>5</th>\n",
       "      <td>r2</td>\n",
       "      <td>-0.032737</td>\n",
       "      <td>-0.026957</td>\n",
       "      <td>-0.023373</td>\n",
       "      <td>-0.035739</td>\n",
       "      <td>-0.031127</td>\n",
       "      <td>-0.020979</td>\n",
       "      <td>random_forest</td>\n",
       "      <td>all</td>\n",
       "    </tr>\n",
       "    <tr>\n",
       "      <th>6</th>\n",
       "      <td>r</td>\n",
       "      <td>NaN</td>\n",
       "      <td>NaN</td>\n",
       "      <td>NaN</td>\n",
       "      <td>NaN</td>\n",
       "      <td>NaN</td>\n",
       "      <td>NaN</td>\n",
       "      <td>random_forest</td>\n",
       "      <td>all</td>\n",
       "    </tr>\n",
       "    <tr>\n",
       "      <th>7</th>\n",
       "      <td>MAE</td>\n",
       "      <td>0.118157</td>\n",
       "      <td>0.114727</td>\n",
       "      <td>0.126159</td>\n",
       "      <td>0.121812</td>\n",
       "      <td>0.103594</td>\n",
       "      <td>0.121927</td>\n",
       "      <td>random_forest</td>\n",
       "      <td>all</td>\n",
       "    </tr>\n",
       "    <tr>\n",
       "      <th>8</th>\n",
       "      <td>MSE</td>\n",
       "      <td>0.021604</td>\n",
       "      <td>0.020675</td>\n",
       "      <td>0.024027</td>\n",
       "      <td>0.022529</td>\n",
       "      <td>0.017466</td>\n",
       "      <td>0.022813</td>\n",
       "      <td>random_forest</td>\n",
       "      <td>all</td>\n",
       "    </tr>\n",
       "    <tr>\n",
       "      <th>9</th>\n",
       "      <td>RMSE</td>\n",
       "      <td>0.146982</td>\n",
       "      <td>0.143789</td>\n",
       "      <td>0.155005</td>\n",
       "      <td>0.150098</td>\n",
       "      <td>0.132158</td>\n",
       "      <td>0.151040</td>\n",
       "      <td>random_forest</td>\n",
       "      <td>all</td>\n",
       "    </tr>\n",
       "    <tr>\n",
       "      <th>10</th>\n",
       "      <td>r2</td>\n",
       "      <td>-0.244933</td>\n",
       "      <td>-0.276026</td>\n",
       "      <td>-0.208252</td>\n",
       "      <td>-0.274292</td>\n",
       "      <td>-0.186088</td>\n",
       "      <td>-0.280004</td>\n",
       "      <td>linear_reg</td>\n",
       "      <td>val</td>\n",
       "    </tr>\n",
       "    <tr>\n",
       "      <th>11</th>\n",
       "      <td>r</td>\n",
       "      <td>NaN</td>\n",
       "      <td>NaN</td>\n",
       "      <td>NaN</td>\n",
       "      <td>NaN</td>\n",
       "      <td>NaN</td>\n",
       "      <td>NaN</td>\n",
       "      <td>linear_reg</td>\n",
       "      <td>val</td>\n",
       "    </tr>\n",
       "    <tr>\n",
       "      <th>12</th>\n",
       "      <td>MAE</td>\n",
       "      <td>0.129344</td>\n",
       "      <td>0.129932</td>\n",
       "      <td>0.137832</td>\n",
       "      <td>0.133714</td>\n",
       "      <td>0.109503</td>\n",
       "      <td>0.135738</td>\n",
       "      <td>linear_reg</td>\n",
       "      <td>val</td>\n",
       "    </tr>\n",
       "    <tr>\n",
       "      <th>13</th>\n",
       "      <td>MSE</td>\n",
       "      <td>0.026292</td>\n",
       "      <td>0.026239</td>\n",
       "      <td>0.029283</td>\n",
       "      <td>0.027898</td>\n",
       "      <td>0.019293</td>\n",
       "      <td>0.028748</td>\n",
       "      <td>linear_reg</td>\n",
       "      <td>val</td>\n",
       "    </tr>\n",
       "    <tr>\n",
       "      <th>14</th>\n",
       "      <td>RMSE</td>\n",
       "      <td>0.162149</td>\n",
       "      <td>0.161983</td>\n",
       "      <td>0.171122</td>\n",
       "      <td>0.167028</td>\n",
       "      <td>0.138900</td>\n",
       "      <td>0.169552</td>\n",
       "      <td>linear_reg</td>\n",
       "      <td>val</td>\n",
       "    </tr>\n",
       "    <tr>\n",
       "      <th>15</th>\n",
       "      <td>r2</td>\n",
       "      <td>-0.191870</td>\n",
       "      <td>-0.247502</td>\n",
       "      <td>-0.178585</td>\n",
       "      <td>-0.225136</td>\n",
       "      <td>-0.162717</td>\n",
       "      <td>-0.228625</td>\n",
       "      <td>random_forest</td>\n",
       "      <td>val</td>\n",
       "    </tr>\n",
       "    <tr>\n",
       "      <th>16</th>\n",
       "      <td>r</td>\n",
       "      <td>NaN</td>\n",
       "      <td>NaN</td>\n",
       "      <td>NaN</td>\n",
       "      <td>NaN</td>\n",
       "      <td>NaN</td>\n",
       "      <td>NaN</td>\n",
       "      <td>random_forest</td>\n",
       "      <td>val</td>\n",
       "    </tr>\n",
       "    <tr>\n",
       "      <th>17</th>\n",
       "      <td>MAE</td>\n",
       "      <td>0.126439</td>\n",
       "      <td>0.128327</td>\n",
       "      <td>0.135582</td>\n",
       "      <td>0.131403</td>\n",
       "      <td>0.109227</td>\n",
       "      <td>0.132193</td>\n",
       "      <td>random_forest</td>\n",
       "      <td>val</td>\n",
       "    </tr>\n",
       "    <tr>\n",
       "      <th>18</th>\n",
       "      <td>MSE</td>\n",
       "      <td>0.025155</td>\n",
       "      <td>0.025652</td>\n",
       "      <td>0.028564</td>\n",
       "      <td>0.026822</td>\n",
       "      <td>0.018913</td>\n",
       "      <td>0.027594</td>\n",
       "      <td>random_forest</td>\n",
       "      <td>val</td>\n",
       "    </tr>\n",
       "    <tr>\n",
       "      <th>19</th>\n",
       "      <td>RMSE</td>\n",
       "      <td>0.158604</td>\n",
       "      <td>0.160163</td>\n",
       "      <td>0.169008</td>\n",
       "      <td>0.163775</td>\n",
       "      <td>0.137524</td>\n",
       "      <td>0.166114</td>\n",
       "      <td>random_forest</td>\n",
       "      <td>val</td>\n",
       "    </tr>\n",
       "  </tbody>\n",
       "</table>\n",
       "</div>"
      ],
      "text/plain": [
       "   index       all         O         C         E         A         N  \\\n",
       "0     r2 -0.015889 -0.015300 -0.012783 -0.016187 -0.016373 -0.018800   \n",
       "1      r       NaN       NaN       NaN       NaN       NaN       NaN   \n",
       "2    MAE  0.119133  0.118010  0.127570  0.121501  0.106601  0.121982   \n",
       "3    MSE  0.022046  0.021472  0.024631  0.022683  0.018395  0.023047   \n",
       "4   RMSE  0.148478  0.146535  0.156943  0.150608  0.135629  0.151813   \n",
       "5     r2 -0.032737 -0.026957 -0.023373 -0.035739 -0.031127 -0.020979   \n",
       "6      r       NaN       NaN       NaN       NaN       NaN       NaN   \n",
       "7    MAE  0.118157  0.114727  0.126159  0.121812  0.103594  0.121927   \n",
       "8    MSE  0.021604  0.020675  0.024027  0.022529  0.017466  0.022813   \n",
       "9   RMSE  0.146982  0.143789  0.155005  0.150098  0.132158  0.151040   \n",
       "10    r2 -0.244933 -0.276026 -0.208252 -0.274292 -0.186088 -0.280004   \n",
       "11     r       NaN       NaN       NaN       NaN       NaN       NaN   \n",
       "12   MAE  0.129344  0.129932  0.137832  0.133714  0.109503  0.135738   \n",
       "13   MSE  0.026292  0.026239  0.029283  0.027898  0.019293  0.028748   \n",
       "14  RMSE  0.162149  0.161983  0.171122  0.167028  0.138900  0.169552   \n",
       "15    r2 -0.191870 -0.247502 -0.178585 -0.225136 -0.162717 -0.228625   \n",
       "16     r       NaN       NaN       NaN       NaN       NaN       NaN   \n",
       "17   MAE  0.126439  0.128327  0.135582  0.131403  0.109227  0.132193   \n",
       "18   MSE  0.025155  0.025652  0.028564  0.026822  0.018913  0.027594   \n",
       "19  RMSE  0.158604  0.160163  0.169008  0.163775  0.137524  0.166114   \n",
       "\n",
       "            model  mix  \n",
       "0      linear_reg  all  \n",
       "1      linear_reg  all  \n",
       "2      linear_reg  all  \n",
       "3      linear_reg  all  \n",
       "4      linear_reg  all  \n",
       "5   random_forest  all  \n",
       "6   random_forest  all  \n",
       "7   random_forest  all  \n",
       "8   random_forest  all  \n",
       "9   random_forest  all  \n",
       "10     linear_reg  val  \n",
       "11     linear_reg  val  \n",
       "12     linear_reg  val  \n",
       "13     linear_reg  val  \n",
       "14     linear_reg  val  \n",
       "15  random_forest  val  \n",
       "16  random_forest  val  \n",
       "17  random_forest  val  \n",
       "18  random_forest  val  \n",
       "19  random_forest  val  "
      ]
     },
     "execution_count": 44,
     "metadata": {},
     "output_type": "execute_result"
    }
   ],
   "source": [
    "df_final"
   ]
  },
  {
   "cell_type": "markdown",
   "metadata": {},
   "source": [
    "## R2"
   ]
  },
  {
   "cell_type": "code",
   "execution_count": 45,
   "metadata": {},
   "outputs": [],
   "source": [
    "r2=df_final[df_final['index']=='r2'].drop(columns='index')\n",
    "\n",
    "r2_all=r2.loc[:,~r2.columns.isin(['O','C','E','A','N'])]\n",
    "r2_O=r2.loc[:,~r2.columns.isin(['all','C','E','A','N'])]\n",
    "r2_C=r2.loc[:,~r2.columns.isin(['O','all','E','A','N'])]\n",
    "r2_E=r2.loc[:,~r2.columns.isin(['O','C','all','A','N'])]\n",
    "r2_A=r2.loc[:,~r2.columns.isin(['O','C','E','all','N'])]\n",
    "r2_N=r2.loc[:,~r2.columns.isin(['O','C','E','A','all'])]"
   ]
  },
  {
   "cell_type": "markdown",
   "metadata": {},
   "source": [
    "All"
   ]
  },
  {
   "cell_type": "code",
   "execution_count": 60,
   "metadata": {},
   "outputs": [
    {
     "data": {
      "text/plain": [
       "<matplotlib.legend.Legend at 0x7f412b4db370>"
      ]
     },
     "execution_count": 60,
     "metadata": {},
     "output_type": "execute_result"
    },
    {
     "data": {
      "image/png": "[encoded data removed]",
      "text/plain": [
       "<Figure size 648x432 with 1 Axes>"
      ]
     },
     "metadata": {},
     "output_type": "display_data"
    }
   ],
   "source": [
    "plt.figure(figsize=(9, 6))\n",
    "sns.set_style(\"whitegrid\")\n",
    "ax=sns.barplot(x=\"mix\", y=\"all\", hue=\"model\", data=r2_all,capsize=.1,errwidth=1.4)\n",
    "ax.set(xlabel='mixed partition', ylabel='R2 all')\n",
    "plt.legend(bbox_to_anchor=(1.05, 1), loc=2)"
   ]
  },
  {
   "cell_type": "markdown",
   "metadata": {},
   "source": [
    "Openness"
   ]
  },
  {
   "cell_type": "code",
   "execution_count": 62,
   "metadata": {},
   "outputs": [
    {
     "data": {
      "text/plain": [
       "<matplotlib.legend.Legend at 0x7f412b662110>"
      ]
     },
     "execution_count": 62,
     "metadata": {},
     "output_type": "execute_result"
    },
    {
     "data": {
      "image/png": "[encoded data removed]",
      "text/plain": [
       "<Figure size 648x432 with 1 Axes>"
      ]
     },
     "metadata": {},
     "output_type": "display_data"
    }
   ],
   "source": [
    "plt.figure(figsize=(9, 6))\n",
    "sns.set_style(\"whitegrid\")\n",
    "ax=sns.barplot(x=\"mix\", y=\"O\", hue=\"model\", data=r2_O,capsize=.1,errwidth=1.4)\n",
    "ax.set(xlabel='mixed partition', ylabel='R2 Openness')\n",
    "plt.legend(bbox_to_anchor=(1.05, 1), loc=2)"
   ]
  },
  {
   "cell_type": "markdown",
   "metadata": {},
   "source": [
    "Conscienciousness"
   ]
  },
  {
   "cell_type": "code",
   "execution_count": 63,
   "metadata": {},
   "outputs": [
    {
     "data": {
      "text/plain": [
       "<matplotlib.legend.Legend at 0x7f412b5d9150>"
      ]
     },
     "execution_count": 63,
     "metadata": {},
     "output_type": "execute_result"
    },
    {
     "data": {
      "image/png": "[encoded data removed]",
      "text/plain": [
       "<Figure size 648x432 with 1 Axes>"
      ]
     },
     "metadata": {},
     "output_type": "display_data"
    }
   ],
   "source": [
    "plt.figure(figsize=(9, 6))\n",
    "sns.set_style(\"whitegrid\")\n",
    "ax=sns.barplot(x=\"mix\", y=\"C\", hue=\"model\", data=r2_C,capsize=.1,errwidth=1.4)\n",
    "ax.set(xlabel='mixed partition', ylabel='R2 Conscienciousness')\n",
    "plt.legend(bbox_to_anchor=(1.05, 1), loc=2)"
   ]
  },
  {
   "cell_type": "markdown",
   "metadata": {},
   "source": [
    "Extraversion"
   ]
  },
  {
   "cell_type": "code",
   "execution_count": 64,
   "metadata": {},
   "outputs": [
    {
     "data": {
      "text/plain": [
       "<matplotlib.legend.Legend at 0x7f412b662230>"
      ]
     },
     "execution_count": 64,
     "metadata": {},
     "output_type": "execute_result"
    },
    {
     "data": {
      "image/png": "[encoded data removed]",
      "text/plain": [
       "<Figure size 648x432 with 1 Axes>"
      ]
     },
     "metadata": {},
     "output_type": "display_data"
    }
   ],
   "source": [
    "plt.figure(figsize=(9, 6))\n",
    "sns.set_style(\"whitegrid\")\n",
    "ax=sns.barplot(x=\"mix\", y=\"E\", hue=\"model\", data=r2_E,capsize=.1,errwidth=1.4)\n",
    "ax.set(xlabel='mixed partition', ylabel='R2 Extraversion')\n",
    "plt.legend(bbox_to_anchor=(1.05, 1), loc=2)"
   ]
  },
  {
   "cell_type": "markdown",
   "metadata": {},
   "source": [
    "Agreeableness"
   ]
  },
  {
   "cell_type": "code",
   "execution_count": 65,
   "metadata": {},
   "outputs": [
    {
     "data": {
      "text/plain": [
       "<matplotlib.legend.Legend at 0x7f412b569c60>"
      ]
     },
     "execution_count": 65,
     "metadata": {},
     "output_type": "execute_result"
    },
    {
     "data": {
      "image/png": "[encoded data removed]",
      "text/plain": [
       "<Figure size 648x432 with 1 Axes>"
      ]
     },
     "metadata": {},
     "output_type": "display_data"
    }
   ],
   "source": [
    "plt.figure(figsize=(9, 6))\n",
    "sns.set_style(\"whitegrid\")\n",
    "ax=sns.barplot(x=\"mix\", y=\"A\", hue=\"model\", data=r2_A,capsize=.1,errwidth=1.4)\n",
    "ax.set(xlabel='mixed partition', ylabel='R2 Agreeableness')\n",
    "plt.legend(bbox_to_anchor=(1.05, 1), loc=2)"
   ]
  },
  {
   "cell_type": "markdown",
   "metadata": {},
   "source": [
    "Neuroticism"
   ]
  },
  {
   "cell_type": "code",
   "execution_count": 66,
   "metadata": {},
   "outputs": [
    {
     "data": {
      "text/plain": [
       "<matplotlib.legend.Legend at 0x7f412b2bb250>"
      ]
     },
     "execution_count": 66,
     "metadata": {},
     "output_type": "execute_result"
    },
    {
     "data": {
      "image/png": "[encoded data removed]",
      "text/plain": [
       "<Figure size 648x432 with 1 Axes>"
      ]
     },
     "metadata": {},
     "output_type": "display_data"
    }
   ],
   "source": [
    "plt.figure(figsize=(9, 6))\n",
    "sns.set_style(\"whitegrid\")\n",
    "ax=sns.barplot(x=\"mix\", y=\"N\", hue=\"model\", data=r2_N,capsize=.1,errwidth=1.4)\n",
    "ax.set(xlabel='mixed partition', ylabel='R2 Neuroticism')\n",
    "plt.legend(bbox_to_anchor=(1.05, 1), loc=2)"
   ]
  },
  {
   "cell_type": "markdown",
   "metadata": {},
   "source": [
    "## MAE"
   ]
  },
  {
   "cell_type": "code",
   "execution_count": 57,
   "metadata": {},
   "outputs": [],
   "source": [
    "MAE=df_final[df_final['index']=='MAE'].drop(columns='index')\n",
    "\n",
    "MAE_all=MAE.loc[:,~MAE.columns.isin(['O','C','E','A','N'])]\n",
    "MAE_O=MAE.loc[:,~MAE.columns.isin(['all','C','E','A','N'])]\n",
    "MAE_C=MAE.loc[:,~MAE.columns.isin(['O','all','E','A','N'])]\n",
    "MAE_E=MAE.loc[:,~MAE.columns.isin(['O','C','all','A','N'])]\n",
    "MAE_A=MAE.loc[:,~MAE.columns.isin(['O','C','E','all','N'])]\n",
    "MAE_N=MAE.loc[:,~MAE.columns.isin(['O','C','E','A','all'])]"
   ]
  },
  {
   "cell_type": "markdown",
   "metadata": {},
   "source": [
    "All"
   ]
  },
  {
   "cell_type": "code",
   "execution_count": 67,
   "metadata": {},
   "outputs": [
    {
     "data": {
      "text/plain": [
       "(0.08, 0.13581100118429884)"
      ]
     },
     "execution_count": 67,
     "metadata": {},
     "output_type": "execute_result"
    },
    {
     "data": {
      "image/png": "[encoded data removed]",
      "text/plain": [
       "<Figure size 864x576 with 1 Axes>"
      ]
     },
     "metadata": {},
     "output_type": "display_data"
    }
   ],
   "source": [
    "plt.figure(figsize=(12, 8))\n",
    "sns.set_style(\"whitegrid\")\n",
    "ax=sns.barplot(x=\"mix\", y=\"all\", hue=\"model\", data=MAE_all,capsize=.1,errwidth=1.4)\n",
    "ax.set(xlabel='mixed partition', ylabel='MAE all')\n",
    "plt.legend(bbox_to_anchor=(1.05, 1), loc=2)\n",
    "plt.ylim(0.08, )"
   ]
  },
  {
   "cell_type": "code",
   "execution_count": 69,
   "metadata": {},
   "outputs": [
    {
     "data": {
      "text/plain": [
       "(0.08, 0.13642893400840514)"
      ]
     },
     "execution_count": 69,
     "metadata": {},
     "output_type": "execute_result"
    },
    {
     "data": {
      "image/png": "[encoded data removed]",
      "text/plain": [
       "<Figure size 864x576 with 1 Axes>"
      ]
     },
     "metadata": {},
     "output_type": "display_data"
    }
   ],
   "source": [
    "plt.figure(figsize=(12, 8))\n",
    "sns.set_style(\"whitegrid\")\n",
    "ax=sns.barplot(x=\"mix\", y=\"O\", hue=\"model\", data=MAE_O,capsize=.1,errwidth=1.4)\n",
    "ax.set(xlabel='mixed partition', ylabel='MAE Openness')\n",
    "plt.legend(bbox_to_anchor=(1.05, 1), loc=2)\n",
    "plt.ylim(0.08, )"
   ]
  },
  {
   "cell_type": "code",
   "execution_count": 71,
   "metadata": {},
   "outputs": [
    {
     "data": {
      "text/plain": [
       "(0.08, 0.14472322961010242)"
      ]
     },
     "execution_count": 71,
     "metadata": {},
     "output_type": "execute_result"
    },
    {
     "data": {
      "image/png": "[encoded data removed]",
      "text/plain": [
       "<Figure size 864x576 with 1 Axes>"
      ]
     },
     "metadata": {},
     "output_type": "display_data"
    }
   ],
   "source": [
    "plt.figure(figsize=(12, 8))\n",
    "sns.set_style(\"whitegrid\")\n",
    "ax=sns.barplot(x=\"mix\", y=\"C\", hue=\"model\", data=MAE_C,capsize=.1,errwidth=1.4)\n",
    "ax.set(xlabel='mixed partition', ylabel='MAE Conscienciousness')\n",
    "plt.legend(bbox_to_anchor=(1.05, 1), loc=2)\n",
    "plt.ylim(0.08, )"
   ]
  },
  {
   "cell_type": "code",
   "execution_count": 72,
   "metadata": {},
   "outputs": [
    {
     "data": {
      "text/plain": [
       "(0.08, 0.1404000715992543)"
      ]
     },
     "execution_count": 72,
     "metadata": {},
     "output_type": "execute_result"
    },
    {
     "data": {
      "image/png": "[encoded data removed]",
      "text/plain": [
       "<Figure size 864x576 with 1 Axes>"
      ]
     },
     "metadata": {},
     "output_type": "display_data"
    }
   ],
   "source": [
    "plt.figure(figsize=(12, 8))\n",
    "sns.set_style(\"whitegrid\")\n",
    "ax=sns.barplot(x=\"mix\", y=\"E\", hue=\"model\", data=MAE_E,capsize=.1,errwidth=1.4)\n",
    "ax.set(xlabel='mixed partition', ylabel='MAE Extroversion')\n",
    "plt.legend(bbox_to_anchor=(1.05, 1), loc=2)\n",
    "plt.ylim(0.08, )"
   ]
  },
  {
   "cell_type": "code",
   "execution_count": 73,
   "metadata": {},
   "outputs": [
    {
     "data": {
      "text/plain": [
       "(0.08, 0.11497774487678188)"
      ]
     },
     "execution_count": 73,
     "metadata": {},
     "output_type": "execute_result"
    },
    {
     "data": {
      "image/png": "[encoded data removed]",
      "text/plain": [
       "<Figure size 864x576 with 1 Axes>"
      ]
     },
     "metadata": {},
     "output_type": "display_data"
    }
   ],
   "source": [
    "plt.figure(figsize=(12, 8))\n",
    "sns.set_style(\"whitegrid\")\n",
    "ax=sns.barplot(x=\"mix\", y=\"A\", hue=\"model\", data=MAE_A,capsize=.1,errwidth=1.4)\n",
    "ax.set(xlabel='mixed partition', ylabel='MAE Agreeableness')\n",
    "plt.legend(bbox_to_anchor=(1.05, 1), loc=2)\n",
    "plt.ylim(0.08, )"
   ]
  },
  {
   "cell_type": "code",
   "execution_count": 75,
   "metadata": {},
   "outputs": [
    {
     "data": {
      "text/plain": [
       "(0.08, 0.14252502614880014)"
      ]
     },
     "execution_count": 75,
     "metadata": {},
     "output_type": "execute_result"
    },
    {
     "data": {
      "image/png": "[encoded data removed]",
      "text/plain": [
       "<Figure size 864x576 with 1 Axes>"
      ]
     },
     "metadata": {},
     "output_type": "display_data"
    }
   ],
   "source": [
    "plt.figure(figsize=(12, 8))\n",
    "sns.set_style(\"whitegrid\")\n",
    "ax=sns.barplot(x=\"mix\", y=\"N\", hue=\"model\", data=MAE_N,capsize=.1,errwidth=1.4)\n",
    "ax.set(xlabel='mixed partition', ylabel='MAE Neuroticism')\n",
    "plt.legend(bbox_to_anchor=(1.05, 1), loc=2)\n",
    "plt.ylim(0.08, )"
   ]
  }
 ],
 "metadata": {
  "interpreter": {
   "hash": "d29ee2a6b024b3ef0af2f29a3df7b0f54a5cbf6eee460d08c8941f471b385dbe"
  },
  "kernelspec": {
   "display_name": "Python 3.10.5",
   "language": "python",
   "name": "python3"
  },
  "language_info": {
   "codemirror_mode": {
    "name": "ipython",
    "version": 3
   },
   "file_extension": ".py",
   "mimetype": "text/x-python",
   "name": "python",
   "nbconvert_exporter": "python",
   "pygments_lexer": "ipython3",
   "version": "3.10.5"
  },
  "orig_nbformat": 4
 },
 "nbformat": 4,
 "nbformat_minor": 2
}
