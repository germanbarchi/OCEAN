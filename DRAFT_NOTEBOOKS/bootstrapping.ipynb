{
 "cells": [
  {
   "cell_type": "code",
   "execution_count": 141,
   "metadata": {},
   "outputs": [],
   "source": [
    "import pandas as pd\n",
    "from sklearn.ensemble import RandomForestRegressor\n",
    "\n",
    "from sklearn.metrics import r2_score\n",
    "from sklearn.metrics import mean_squared_error\n",
    "from sklearn.metrics import mean_absolute_error\n",
    "\n",
    "import numpy as np\n",
    "import tqdm\n",
    "import warnings\n",
    "import seaborn as sns"
   ]
  },
  {
   "cell_type": "markdown",
   "metadata": {},
   "source": [
    "## Functions"
   ]
  },
  {
   "cell_type": "code",
   "execution_count": 13,
   "metadata": {},
   "outputs": [],
   "source": [
    "def split_train_test(df):\n",
    "    \n",
    "    df_train=df[df['Partition']=='Train']\n",
    "    df_val=df[df['Partition']=='Val']\n",
    "    df_test=df[df['Partition']=='Test']\n",
    "\n",
    "    df_train_X=df_train.iloc[:,1:-6]\n",
    "    df_train_Y=df_train.iloc[:,-6:-1]\n",
    "\n",
    "    df_val_X=df_val.iloc[:,1:-6]\n",
    "    df_val_Y=df_val.iloc[:,-6:-1]\n",
    "\n",
    "    df_test_X=df_test.iloc[:,1:-6]\n",
    "    df_test_Y=df_test.iloc[:,-6:-1]\n",
    "\n",
    "    return df_test_X, df_test_Y, df_train_X, df_train_Y, df_val_X, df_val_Y\n",
    "\n",
    "def RandomForest(df):  \n",
    "    \n",
    "    X_test, Y_test, X_train, Y_train, X_val, Y_val =split_train_test(df)\n",
    "    \n",
    "    RF_reg=RandomForestRegressor(random_state=42) \n",
    "    \n",
    "    RF_reg.fit(X_train,Y_train)\n",
    "      \n",
    "    predictions=RF_reg.predict(X_val.values)\n",
    "      \n",
    "    r2=r2_score(Y_val, predictions)    \n",
    "    \n",
    "    MAE=mean_absolute_error(Y_val, predictions)\n",
    "    MSE=mean_squared_error(Y_val, predictions)\n",
    "    RMSE=np.sqrt(mean_squared_error(Y_val, predictions))\n",
    "        \n",
    "    return predictions,r2,MAE,MSE,RMSE,Y_val, RF_reg\n",
    "\n",
    "def resumen(var):\n",
    "    \n",
    "    big_five=['all','O','C','E','A','N']\n",
    "\n",
    "    DF_final=pd.DataFrame()\n",
    "    DF_final['index']=['r2','r','MAE','MSE','RMSE']\n",
    "    DF_final=DF_final.set_index('index')    \n",
    "\n",
    "    for dim in big_five:\n",
    "        DF_final[dim]=np.array([var['r2_'+dim],np.sqrt(var['r2_'+dim]),var['MAE_'+dim],var['MSE_'+dim],var['RMSE_'+dim]])\n",
    "\n",
    "    return DF_final   "
   ]
  },
  {
   "cell_type": "markdown",
   "metadata": {},
   "source": [
    "## Boostrapping Results"
   ]
  },
  {
   "cell_type": "code",
   "execution_count": 6,
   "metadata": {},
   "outputs": [],
   "source": [
    "df=pd.read_csv('../experiments/egemaps/random_forest/default/all_audio/local_data/egemaps_all_audio_complete_set.csv',index_col=0)"
   ]
  },
  {
   "cell_type": "code",
   "execution_count": 123,
   "metadata": {},
   "outputs": [
    {
     "name": "stderr",
     "output_type": "stream",
     "text": [
      "100%|██████████| 1000/1000 [06:45<00:00,  2.47it/s]\n"
     ]
    }
   ],
   "source": [
    "n_samples=100\n",
    "iterations=1000\n",
    "metrics_list=[]\n",
    "\n",
    "warnings.filterwarnings(\"ignore\")\n",
    "\n",
    "for i in tqdm.tqdm(range(iterations)):\n",
    "    subset=df.sample(n=n_samples, replace=True)\n",
    "    preds_all,r2_all,MAE_all,MSE_all,RMSE_all,y_test,RF_reg=RandomForest(subset)\n",
    "    metrics=[r2_all,np.sqrt(r2_all),MAE_all,MSE_all,RMSE_all]\n",
    "    metrics_list.append(metrics)\n",
    "    \n",
    "metrics_list=np.transpose(metrics_list)\n",
    "df=pd.DataFrame({'r2':metrics_list[0],'r':metrics_list[1],'MAE':metrics_list[2],'MSE':metrics_list[3],'RMSE':metrics_list[4]})"
   ]
  },
  {
   "cell_type": "code",
   "execution_count": 140,
   "metadata": {},
   "outputs": [
    {
     "data": {
      "text/html": [
       "<div>\n",
       "<style scoped>\n",
       "    .dataframe tbody tr th:only-of-type {\n",
       "        vertical-align: middle;\n",
       "    }\n",
       "\n",
       "    .dataframe tbody tr th {\n",
       "        vertical-align: top;\n",
       "    }\n",
       "\n",
       "    .dataframe thead th {\n",
       "        text-align: right;\n",
       "    }\n",
       "</style>\n",
       "<table border=\"1\" class=\"dataframe\">\n",
       "  <thead>\n",
       "    <tr style=\"text-align: right;\">\n",
       "      <th></th>\n",
       "      <th>r2</th>\n",
       "      <th>MAE</th>\n",
       "      <th>MSE</th>\n",
       "      <th>RMSE</th>\n",
       "    </tr>\n",
       "  </thead>\n",
       "  <tbody>\n",
       "    <tr>\n",
       "      <th>count</th>\n",
       "      <td>1000.000000</td>\n",
       "      <td>1000.000000</td>\n",
       "      <td>1000.000000</td>\n",
       "      <td>1000.000000</td>\n",
       "    </tr>\n",
       "    <tr>\n",
       "      <th>mean</th>\n",
       "      <td>-0.026944</td>\n",
       "      <td>0.111563</td>\n",
       "      <td>0.019639</td>\n",
       "      <td>0.139103</td>\n",
       "    </tr>\n",
       "    <tr>\n",
       "      <th>std</th>\n",
       "      <td>0.203855</td>\n",
       "      <td>0.014053</td>\n",
       "      <td>0.004831</td>\n",
       "      <td>0.017029</td>\n",
       "    </tr>\n",
       "    <tr>\n",
       "      <th>min</th>\n",
       "      <td>-1.359975</td>\n",
       "      <td>0.066284</td>\n",
       "      <td>0.007059</td>\n",
       "      <td>0.084015</td>\n",
       "    </tr>\n",
       "    <tr>\n",
       "      <th>25%</th>\n",
       "      <td>-0.128818</td>\n",
       "      <td>0.101450</td>\n",
       "      <td>0.016116</td>\n",
       "      <td>0.126947</td>\n",
       "    </tr>\n",
       "    <tr>\n",
       "      <th>50%</th>\n",
       "      <td>0.004908</td>\n",
       "      <td>0.111020</td>\n",
       "      <td>0.019131</td>\n",
       "      <td>0.138316</td>\n",
       "    </tr>\n",
       "    <tr>\n",
       "      <th>75%</th>\n",
       "      <td>0.104897</td>\n",
       "      <td>0.120791</td>\n",
       "      <td>0.022478</td>\n",
       "      <td>0.149927</td>\n",
       "    </tr>\n",
       "    <tr>\n",
       "      <th>max</th>\n",
       "      <td>0.499747</td>\n",
       "      <td>0.167286</td>\n",
       "      <td>0.038725</td>\n",
       "      <td>0.196786</td>\n",
       "    </tr>\n",
       "  </tbody>\n",
       "</table>\n",
       "</div>"
      ],
      "text/plain": [
       "                r2          MAE          MSE         RMSE\n",
       "count  1000.000000  1000.000000  1000.000000  1000.000000\n",
       "mean     -0.026944     0.111563     0.019639     0.139103\n",
       "std       0.203855     0.014053     0.004831     0.017029\n",
       "min      -1.359975     0.066284     0.007059     0.084015\n",
       "25%      -0.128818     0.101450     0.016116     0.126947\n",
       "50%       0.004908     0.111020     0.019131     0.138316\n",
       "75%       0.104897     0.120791     0.022478     0.149927\n",
       "max       0.499747     0.167286     0.038725     0.196786"
      ]
     },
     "execution_count": 140,
     "metadata": {},
     "output_type": "execute_result"
    }
   ],
   "source": [
    "df[['r2','MAE','MSE','RMSE']].describe()"
   ]
  },
  {
   "cell_type": "markdown",
   "metadata": {},
   "source": [
    "R2"
   ]
  },
  {
   "cell_type": "code",
   "execution_count": 143,
   "metadata": {},
   "outputs": [
    {
     "data": {
      "text/plain": [
       "<AxesSubplot:xlabel='r2', ylabel='Density'>"
      ]
     },
     "execution_count": 143,
     "metadata": {},
     "output_type": "execute_result"
    },
    {
     "data": {
      "image/png": "[encoded data removed]",
      "text/plain": [
       "<Figure size 432x288 with 1 Axes>"
      ]
     },
     "metadata": {
      "needs_background": "light"
     },
     "output_type": "display_data"
    }
   ],
   "source": [
    "sns.distplot(df['r2'])"
   ]
  },
  {
   "cell_type": "code",
   "execution_count": 144,
   "metadata": {},
   "outputs": [
    {
     "data": {
      "text/plain": [
       "<AxesSubplot:xlabel='MAE', ylabel='Density'>"
      ]
     },
     "execution_count": 144,
     "metadata": {},
     "output_type": "execute_result"
    },
    {
     "data": {
      "image/png": "[encoded data removed]",
      "text/plain": [
       "<Figure size 432x288 with 1 Axes>"
      ]
     },
     "metadata": {
      "needs_background": "light"
     },
     "output_type": "display_data"
    }
   ],
   "source": [
    "sns.distplot(df['MAE'])"
   ]
  },
  {
   "cell_type": "code",
   "execution_count": 145,
   "metadata": {},
   "outputs": [
    {
     "data": {
      "text/plain": [
       "<AxesSubplot:xlabel='MSE', ylabel='Density'>"
      ]
     },
     "execution_count": 145,
     "metadata": {},
     "output_type": "execute_result"
    },
    {
     "data": {
      "image/png": "[encoded data removed]",
      "text/plain": [
       "<Figure size 432x288 with 1 Axes>"
      ]
     },
     "metadata": {
      "needs_background": "light"
     },
     "output_type": "display_data"
    }
   ],
   "source": [
    "sns.distplot(df['MSE'])"
   ]
  },
  {
   "cell_type": "code",
   "execution_count": 146,
   "metadata": {},
   "outputs": [
    {
     "data": {
      "text/plain": [
       "<AxesSubplot:xlabel='RMSE', ylabel='Density'>"
      ]
     },
     "execution_count": 146,
     "metadata": {},
     "output_type": "execute_result"
    },
    {
     "data": {
      "image/png": "[encoded data removed]",
      "text/plain": [
       "<Figure size 432x288 with 1 Axes>"
      ]
     },
     "metadata": {
      "needs_background": "light"
     },
     "output_type": "display_data"
    }
   ],
   "source": [
    "sns.distplot(df['RMSE'])"
   ]
  },
  {
   "cell_type": "code",
   "execution_count": null,
   "metadata": {},
   "outputs": [],
   "source": []
  }
 ],
 "metadata": {
  "interpreter": {
   "hash": "d29ee2a6b024b3ef0af2f29a3df7b0f54a5cbf6eee460d08c8941f471b385dbe"
  },
  "kernelspec": {
   "display_name": "Python 3.10.5",
   "language": "python",
   "name": "python3"
  },
  "language_info": {
   "codemirror_mode": {
    "name": "ipython",
    "version": 3
   },
   "file_extension": ".py",
   "mimetype": "text/x-python",
   "name": "python",
   "nbconvert_exporter": "python",
   "pygments_lexer": "ipython3",
   "version": "3.10.5"
  },
  "orig_nbformat": 4
 },
 "nbformat": 4,
 "nbformat_minor": 2
}
