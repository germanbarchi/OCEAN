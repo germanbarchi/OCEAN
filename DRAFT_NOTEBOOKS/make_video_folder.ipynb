{
 "cells": [
  {
   "cell_type": "code",
   "execution_count": 51,
   "metadata": {},
   "outputs": [],
   "source": [
    "import glob\n",
    "import pandas as pd\n",
    "import warnings\n",
    "import os\n",
    "import shutil"
   ]
  },
  {
   "cell_type": "code",
   "execution_count": 34,
   "metadata": {},
   "outputs": [],
   "source": [
    "audio_paths=glob.glob('../data/audio/*/*.wav')"
   ]
  },
  {
   "cell_type": "code",
   "execution_count": 43,
   "metadata": {},
   "outputs": [],
   "source": [
    "df=pd.DataFrame()\n",
    "\n",
    "warnings.filterwarnings('ignore')\n",
    "\n",
    "for i,path in enumerate(audio_paths):\n",
    "    filename=path.split('/')[-1]\n",
    "    basename=filename.split('.')[0]\n",
    "    part=path.split('/')[-2]\n",
    "    df.loc[i,'partition']=part\n",
    "    df.loc[i,'filename']=filename\n",
    "    df.loc[i,'basename']=basename"
   ]
  },
  {
   "cell_type": "code",
   "execution_count": 49,
   "metadata": {},
   "outputs": [],
   "source": [
    "df=df.drop_duplicates(subset='basename')"
   ]
  },
  {
   "cell_type": "code",
   "execution_count": 56,
   "metadata": {},
   "outputs": [],
   "source": [
    "videos_out_path='/home/german/Documentos/Trust/First_Impressions_Dataset/OCEAN_new_structure/data/video_reduced'\n",
    "videos_path='/home/german/Documentos/Trust/First_Impressions_Dataset/OCEAN_new_structure/data/video'\n",
    "\n",
    "for i in df.index:\n",
    "    part=df.loc[i,'partition']\n",
    "    filename=df.loc[i,'filename'].replace('.wav','.mp4')\n",
    "    file_path=os.path.join(videos_path,part,filename)\n",
    "    parent=videos_out_path+'/'+part\n",
    "    if not os.path.exists(parent):\n",
    "        os.makedirs(parent) \n",
    "\n",
    "    file_out_path=os.path.join(parent,filename)\n",
    "    shutil.copy(file_path, file_out_path)"
   ]
  },
  {
   "cell_type": "code",
   "execution_count": 45,
   "metadata": {},
   "outputs": [
    {
     "data": {
      "text/html": [
       "<div>\n",
       "<style scoped>\n",
       "    .dataframe tbody tr th:only-of-type {\n",
       "        vertical-align: middle;\n",
       "    }\n",
       "\n",
       "    .dataframe tbody tr th {\n",
       "        vertical-align: top;\n",
       "    }\n",
       "\n",
       "    .dataframe thead th {\n",
       "        text-align: right;\n",
       "    }\n",
       "</style>\n",
       "<table border=\"1\" class=\"dataframe\">\n",
       "  <thead>\n",
       "    <tr style=\"text-align: right;\">\n",
       "      <th></th>\n",
       "      <th>partition</th>\n",
       "      <th>filename</th>\n",
       "      <th>basename</th>\n",
       "    </tr>\n",
       "  </thead>\n",
       "  <tbody>\n",
       "    <tr>\n",
       "      <th>0</th>\n",
       "      <td>Val</td>\n",
       "      <td>mDRMCwSD3Ms.001.wav</td>\n",
       "      <td>mDRMCwSD3Ms</td>\n",
       "    </tr>\n",
       "    <tr>\n",
       "      <th>1</th>\n",
       "      <td>Val</td>\n",
       "      <td>nUazOUcW_AM.002.wav</td>\n",
       "      <td>nUazOUcW_AM</td>\n",
       "    </tr>\n",
       "    <tr>\n",
       "      <th>2</th>\n",
       "      <td>Val</td>\n",
       "      <td>8AnIttmflwI.000.wav</td>\n",
       "      <td>8AnIttmflwI</td>\n",
       "    </tr>\n",
       "    <tr>\n",
       "      <th>3</th>\n",
       "      <td>Val</td>\n",
       "      <td>XB81sertsYU.004.wav</td>\n",
       "      <td>XB81sertsYU</td>\n",
       "    </tr>\n",
       "    <tr>\n",
       "      <th>4</th>\n",
       "      <td>Val</td>\n",
       "      <td>alucqviYJFE.005.wav</td>\n",
       "      <td>alucqviYJFE</td>\n",
       "    </tr>\n",
       "    <tr>\n",
       "      <th>...</th>\n",
       "      <td>...</td>\n",
       "      <td>...</td>\n",
       "      <td>...</td>\n",
       "    </tr>\n",
       "    <tr>\n",
       "      <th>9916</th>\n",
       "      <td>Test</td>\n",
       "      <td>-ZP25UpJeJ4.000.wav</td>\n",
       "      <td>-ZP25UpJeJ4</td>\n",
       "    </tr>\n",
       "    <tr>\n",
       "      <th>9917</th>\n",
       "      <td>Test</td>\n",
       "      <td>pslp6X3OWy0.000.wav</td>\n",
       "      <td>pslp6X3OWy0</td>\n",
       "    </tr>\n",
       "    <tr>\n",
       "      <th>9940</th>\n",
       "      <td>Test</td>\n",
       "      <td>UWG7Jyqc1CY.000.wav</td>\n",
       "      <td>UWG7Jyqc1CY</td>\n",
       "    </tr>\n",
       "    <tr>\n",
       "      <th>9950</th>\n",
       "      <td>Test</td>\n",
       "      <td>Cv_QK9bPagQ.004.wav</td>\n",
       "      <td>Cv_QK9bPagQ</td>\n",
       "    </tr>\n",
       "    <tr>\n",
       "      <th>9990</th>\n",
       "      <td>Test</td>\n",
       "      <td>cpch8WDydcM.004.wav</td>\n",
       "      <td>cpch8WDydcM</td>\n",
       "    </tr>\n",
       "  </tbody>\n",
       "</table>\n",
       "<p>3060 rows × 3 columns</p>\n",
       "</div>"
      ],
      "text/plain": [
       "     partition             filename     basename\n",
       "0          Val  mDRMCwSD3Ms.001.wav  mDRMCwSD3Ms\n",
       "1          Val  nUazOUcW_AM.002.wav  nUazOUcW_AM\n",
       "2          Val  8AnIttmflwI.000.wav  8AnIttmflwI\n",
       "3          Val  XB81sertsYU.004.wav  XB81sertsYU\n",
       "4          Val  alucqviYJFE.005.wav  alucqviYJFE\n",
       "...        ...                  ...          ...\n",
       "9916      Test  -ZP25UpJeJ4.000.wav  -ZP25UpJeJ4\n",
       "9917      Test  pslp6X3OWy0.000.wav  pslp6X3OWy0\n",
       "9940      Test  UWG7Jyqc1CY.000.wav  UWG7Jyqc1CY\n",
       "9950      Test  Cv_QK9bPagQ.004.wav  Cv_QK9bPagQ\n",
       "9990      Test  cpch8WDydcM.004.wav  cpch8WDydcM\n",
       "\n",
       "[3060 rows x 3 columns]"
      ]
     },
     "execution_count": 45,
     "metadata": {},
     "output_type": "execute_result"
    }
   ],
   "source": [
    "df.drop_duplicates(subset='basename')"
   ]
  }
 ],
 "metadata": {
  "interpreter": {
   "hash": "d29ee2a6b024b3ef0af2f29a3df7b0f54a5cbf6eee460d08c8941f471b385dbe"
  },
  "kernelspec": {
   "display_name": "Python 3.10.5",
   "language": "python",
   "name": "python3"
  },
  "language_info": {
   "codemirror_mode": {
    "name": "ipython",
    "version": 3
   },
   "file_extension": ".py",
   "mimetype": "text/x-python",
   "name": "python",
   "nbconvert_exporter": "python",
   "pygments_lexer": "ipython3",
   "version": "3.10.5"
  },
  "orig_nbformat": 4
 },
 "nbformat": 4,
 "nbformat_minor": 2
}
