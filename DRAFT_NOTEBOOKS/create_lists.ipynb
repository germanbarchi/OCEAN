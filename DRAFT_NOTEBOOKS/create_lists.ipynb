{
 "cells": [
  {
   "cell_type": "markdown",
   "metadata": {},
   "source": [
    "1 - Filtrar dataset.\n",
    "* No tienen transcripciones\n",
    "* Música\n",
    "* Baja densidad de palabras\n",
    "* Tags de youtube no deseadas "
   ]
  },
  {
   "cell_type": "code",
   "execution_count": 1,
   "metadata": {},
   "outputs": [],
   "source": [
    "import os\n",
    "import json\n",
    "import glob\n",
    "import matplotlib.pyplot as plt\n",
    "import pandas as pd"
   ]
  },
  {
   "cell_type": "code",
   "execution_count": 44,
   "metadata": {},
   "outputs": [],
   "source": [
    "base_path='/home/german/Documentos/Trust/First_Impressions_Dataset/OCEAN_new_structure/'\n",
    "with open (base_path+'experiments/audio_lists/all_audio_complete_set.txt') as file:\n",
    "    complete_list=file.read().splitlines()    "
   ]
  },
  {
   "cell_type": "markdown",
   "metadata": {},
   "source": [
    "## No transcriptions list"
   ]
  },
  {
   "cell_type": "code",
   "execution_count": 8,
   "metadata": {},
   "outputs": [],
   "source": [
    "transcriptions_path=base_path+'data/transcriptions'\n",
    "\n",
    "a=0\n",
    "with open('../experiments/audio_lists/blacklist_no_transcriptions.txt', 'w') as blacklist:    \n",
    "    for i in complete_list: \n",
    "        filepath=transcriptions_path+'/'+i+'.txt'\n",
    "        eval=os.path.getsize(filepath)\n",
    "        if eval==0:\n",
    "            blacklist.write(i+'\\n')"
   ]
  },
  {
   "cell_type": "markdown",
   "metadata": {},
   "source": [
    "## Forced Aligner errors list"
   ]
  },
  {
   "cell_type": "code",
   "execution_count": 66,
   "metadata": {},
   "outputs": [],
   "source": [
    "json_path='../data/JSON'\n",
    "\n",
    "with open ('../experiments/audio_lists/blacklist_blank_json.txt', 'w') as blacklist_json:\n",
    "    for i in complete_list: \n",
    "        filepath=json_path+'/'+i+'.JSON'\n",
    "        with open (filepath, 'r') as jsonfile:\n",
    "            js=json.load(jsonfile)\n",
    "            if not 'words' in js.keys():\n",
    "                blacklist_json.write(i+'\\n') "
   ]
  },
  {
   "cell_type": "markdown",
   "metadata": {},
   "source": [
    "## Audios with music list"
   ]
  },
  {
   "cell_type": "code",
   "execution_count": 45,
   "metadata": {},
   "outputs": [],
   "source": [
    "with open (base_path+'experiments/audio_lists/all_audio_complete_set.txt') as file:\n",
    "    complete_set=file.read().splitlines()\n",
    "with open (base_path+'experiments/audio_lists/all_audio_no_music_threshold_0.2.txt') as file:\n",
    "    no_music=file.read().splitlines()\n",
    "\n",
    "with open (base_path+'experiments/audio_lists/music_0.2.txt','w') as file:\n",
    "    \n",
    "    [ file.write(i+'\\n') for i in complete_set if i not in no_music ]"
   ]
  },
  {
   "cell_type": "markdown",
   "metadata": {},
   "source": [
    "## Speech segments without music"
   ]
  },
  {
   "cell_type": "markdown",
   "metadata": {},
   "source": [
    "Resto a la lista completa de los que tienen solo speech (9797), los que tienen música con umbral <0.2"
   ]
  },
  {
   "cell_type": "code",
   "execution_count": 50,
   "metadata": {},
   "outputs": [],
   "source": [
    "with open (base_path+'experiments/audio_lists/speech.txt') as file:\n",
    "    speech_list=file.read().splitlines()\n",
    "with open (base_path+'experiments/audio_lists/all_audio_no_music_threshold_0.2.txt') as file:\n",
    "    no_music=file.read().splitlines()\n",
    "\n",
    "with open (base_path+'experiments/audio_lists/speech_no_music.txt','w') as file:\n",
    "    \n",
    "    [ file.write(i+'\\n') for i in speech_list if i in no_music ]"
   ]
  },
  {
   "cell_type": "markdown",
   "metadata": {},
   "source": [
    "## Speech rate"
   ]
  },
  {
   "cell_type": "markdown",
   "metadata": {},
   "source": [
    "* Lo hago sobre los audios procesados (no_unvoiced) porque son menos que los totales. El forced aligner no llega a detectar las palabras.\n",
    "* Busco distintos umbrales de ratio=speech/total. Particularmente busco los mayores a 0.5, 0.6, 0.7, 0.8. "
   ]
  },
  {
   "cell_type": "code",
   "execution_count": 18,
   "metadata": {},
   "outputs": [],
   "source": [
    "base='/home/german/Documentos/Trust/First_Impressions_Dataset/OCEAN_new_structure/'\n",
    "no_unvoiced_list=glob.glob(base+'data/audios_no_unvoiced/*/*.wav')"
   ]
  },
  {
   "cell_type": "markdown",
   "metadata": {},
   "source": [
    "Generé el DF corriendo el script \"speech_ratio.py\""
   ]
  },
  {
   "cell_type": "code",
   "execution_count": 5,
   "metadata": {},
   "outputs": [],
   "source": [
    "audios=glob.glob('/home/german/Documentos/Trust/First_Impressions_Dataset/OCEAN_new_structure/data/JSON/*/*.JSON')\n",
    "df=pd.read_csv('/home/german/Documentos/Trust/First_Impressions_Dataset/OCEAN_new_structure/experiments/audio_lists/df_speech_rate.csv', index_col=[0])"
   ]
  },
  {
   "cell_type": "code",
   "execution_count": 6,
   "metadata": {},
   "outputs": [
    {
     "data": {
      "text/html": [
       "<div>\n",
       "<style scoped>\n",
       "    .dataframe tbody tr th:only-of-type {\n",
       "        vertical-align: middle;\n",
       "    }\n",
       "\n",
       "    .dataframe tbody tr th {\n",
       "        vertical-align: top;\n",
       "    }\n",
       "\n",
       "    .dataframe thead th {\n",
       "        text-align: right;\n",
       "    }\n",
       "</style>\n",
       "<table border=\"1\" class=\"dataframe\">\n",
       "  <thead>\n",
       "    <tr style=\"text-align: right;\">\n",
       "      <th></th>\n",
       "      <th>name</th>\n",
       "      <th>part</th>\n",
       "      <th>speech_ratio</th>\n",
       "    </tr>\n",
       "  </thead>\n",
       "  <tbody>\n",
       "    <tr>\n",
       "      <th>0</th>\n",
       "      <td>mDRMCwSD3Ms.001.wav</td>\n",
       "      <td>Val</td>\n",
       "      <td>0.922849</td>\n",
       "    </tr>\n",
       "    <tr>\n",
       "      <th>1</th>\n",
       "      <td>nUazOUcW_AM.002.wav</td>\n",
       "      <td>Val</td>\n",
       "      <td>0.710487</td>\n",
       "    </tr>\n",
       "    <tr>\n",
       "      <th>2</th>\n",
       "      <td>8AnIttmflwI.000.wav</td>\n",
       "      <td>Val</td>\n",
       "      <td>0.741827</td>\n",
       "    </tr>\n",
       "    <tr>\n",
       "      <th>3</th>\n",
       "      <td>XB81sertsYU.004.wav</td>\n",
       "      <td>Val</td>\n",
       "      <td>0.632037</td>\n",
       "    </tr>\n",
       "    <tr>\n",
       "      <th>4</th>\n",
       "      <td>alucqviYJFE.005.wav</td>\n",
       "      <td>Val</td>\n",
       "      <td>0.857515</td>\n",
       "    </tr>\n",
       "    <tr>\n",
       "      <th>...</th>\n",
       "      <td>...</td>\n",
       "      <td>...</td>\n",
       "      <td>...</td>\n",
       "    </tr>\n",
       "    <tr>\n",
       "      <th>9792</th>\n",
       "      <td>SkNO4x-LSgE.001.wav</td>\n",
       "      <td>Test</td>\n",
       "      <td>0.776459</td>\n",
       "    </tr>\n",
       "    <tr>\n",
       "      <th>9793</th>\n",
       "      <td>QdafN9Y_j-Y.003.wav</td>\n",
       "      <td>Test</td>\n",
       "      <td>0.848353</td>\n",
       "    </tr>\n",
       "    <tr>\n",
       "      <th>9794</th>\n",
       "      <td>JJs_HTelie4.000.wav</td>\n",
       "      <td>Test</td>\n",
       "      <td>0.835945</td>\n",
       "    </tr>\n",
       "    <tr>\n",
       "      <th>9795</th>\n",
       "      <td>cWvZnl5XjwI.002.wav</td>\n",
       "      <td>Test</td>\n",
       "      <td>0.769295</td>\n",
       "    </tr>\n",
       "    <tr>\n",
       "      <th>9796</th>\n",
       "      <td>1uC-2TZqplE.003.wav</td>\n",
       "      <td>Test</td>\n",
       "      <td>0.615083</td>\n",
       "    </tr>\n",
       "  </tbody>\n",
       "</table>\n",
       "<p>9797 rows × 3 columns</p>\n",
       "</div>"
      ],
      "text/plain": [
       "                     name  part  speech_ratio\n",
       "0     mDRMCwSD3Ms.001.wav   Val      0.922849\n",
       "1     nUazOUcW_AM.002.wav   Val      0.710487\n",
       "2     8AnIttmflwI.000.wav   Val      0.741827\n",
       "3     XB81sertsYU.004.wav   Val      0.632037\n",
       "4     alucqviYJFE.005.wav   Val      0.857515\n",
       "...                   ...   ...           ...\n",
       "9792  SkNO4x-LSgE.001.wav  Test      0.776459\n",
       "9793  QdafN9Y_j-Y.003.wav  Test      0.848353\n",
       "9794  JJs_HTelie4.000.wav  Test      0.835945\n",
       "9795  cWvZnl5XjwI.002.wav  Test      0.769295\n",
       "9796  1uC-2TZqplE.003.wav  Test      0.615083\n",
       "\n",
       "[9797 rows x 3 columns]"
      ]
     },
     "execution_count": 6,
     "metadata": {},
     "output_type": "execute_result"
    }
   ],
   "source": [
    "df"
   ]
  },
  {
   "cell_type": "markdown",
   "metadata": {},
   "source": [
    "Filtro el dataframe"
   ]
  },
  {
   "cell_type": "code",
   "execution_count": 25,
   "metadata": {},
   "outputs": [],
   "source": [
    "df_50=df[df['speech_ratio']>=0.5]\n",
    "df_60=df[df['speech_ratio']>=0.6]\n",
    "df_70=df[df['speech_ratio']>=0.7]\n",
    "df_80=df[df['speech_ratio']>=0.8]\n",
    "df_90=df[df['speech_ratio']>=0.9]"
   ]
  },
  {
   "cell_type": "code",
   "execution_count": 26,
   "metadata": {},
   "outputs": [],
   "source": [
    "list_50=df_50.name.values\n",
    "list_60=df_60.name.values\n",
    "list_70=df_70.name.values\n",
    "list_80=df_80.name.values\n",
    "list_90=df_90.name.values"
   ]
  },
  {
   "cell_type": "code",
   "execution_count": 27,
   "metadata": {},
   "outputs": [],
   "source": [
    "L_50=len(list_50)\n",
    "L_60=len(list_60)\n",
    "L_70=len(list_70)\n",
    "L_80=len(list_80)\n",
    "L_90=len(list_90)"
   ]
  },
  {
   "cell_type": "code",
   "execution_count": 28,
   "metadata": {},
   "outputs": [
    {
     "data": {
      "text/plain": [
       "[<matplotlib.lines.Line2D at 0x7fa2a58335e0>]"
      ]
     },
     "execution_count": 28,
     "metadata": {},
     "output_type": "execute_result"
    },
    {
     "data": {
      "image/png": "[encoded data removed]",
      "text/plain": [
       "<Figure size 432x288 with 1 Axes>"
      ]
     },
     "metadata": {
      "needs_background": "light"
     },
     "output_type": "display_data"
    }
   ],
   "source": [
    "plt.plot([L_50,L_60,L_70, L_80, L_90])"
   ]
  },
  {
   "cell_type": "code",
   "execution_count": null,
   "metadata": {},
   "outputs": [],
   "source": [
    "data={'Speech rate: 50%': [L_50, \n",
    "    df_50[df_50['part']=='Train'].shape[0],\n",
    "    df_50[df_50['part']=='Test'].shape[0], \n",
    "    df_50[df_50['part']=='Val'].shape[0]],\n",
    "    'Speech rate: 60%': [L_60, \n",
    "    df_60[df_60['part']=='Train'].shape[0],\n",
    "    df_60[df_60['part']=='Test'].shape[0], \n",
    "    df_60[df_60['part']=='Val'].shape[0]],\n",
    "    'Speech rate: 70%': [L_70, \n",
    "    df_70[df_70['part']=='Train'].shape[0],\n",
    "    df_70[df_70['part']=='Test'].shape[0], \n",
    "    df_70[df_70['part']=='Val'].shape[0]],\n",
    "    'Speech rate: 80%': [L_80, \n",
    "    df_80[df_80['part']=='Train'].shape[0],\n",
    "    df_80[df_80['part']=='Test'].shape[0], \n",
    "    df_80[df_80['part']=='Val'].shape[0]],\n",
    "    'Speech rate: 90%': [L_90, \n",
    "    df_90[df_90['part']=='Train'].shape[0],\n",
    "    df_90[df_90['part']=='Test'].shape[0], \n",
    "    df_90[df_90['part']=='Val'].shape[0]]}"
   ]
  },
  {
   "cell_type": "code",
   "execution_count": 35,
   "metadata": {},
   "outputs": [],
   "source": [
    "speech_rate_data=pd.DataFrame.from_dict(data, orient='index', columns=['Dataset size','Train size','Test size', 'Val size'])"
   ]
  },
  {
   "cell_type": "code",
   "execution_count": 36,
   "metadata": {},
   "outputs": [],
   "source": [
    "speech_rate_data.to_csv('/home/german/Documentos/Trust/First_Impressions_Dataset/OCEAN_new_structure/experiments/audio_lists/speech_rate_data.csv')"
   ]
  },
  {
   "cell_type": "code",
   "execution_count": 37,
   "metadata": {},
   "outputs": [
    {
     "data": {
      "text/html": [
       "<div>\n",
       "<style scoped>\n",
       "    .dataframe tbody tr th:only-of-type {\n",
       "        vertical-align: middle;\n",
       "    }\n",
       "\n",
       "    .dataframe tbody tr th {\n",
       "        vertical-align: top;\n",
       "    }\n",
       "\n",
       "    .dataframe thead th {\n",
       "        text-align: right;\n",
       "    }\n",
       "</style>\n",
       "<table border=\"1\" class=\"dataframe\">\n",
       "  <thead>\n",
       "    <tr style=\"text-align: right;\">\n",
       "      <th></th>\n",
       "      <th>Dataset size</th>\n",
       "      <th>Train size</th>\n",
       "      <th>Test size</th>\n",
       "      <th>Val size</th>\n",
       "    </tr>\n",
       "  </thead>\n",
       "  <tbody>\n",
       "    <tr>\n",
       "      <th>Speech rate: 50%</th>\n",
       "      <td>9171</td>\n",
       "      <td>5472</td>\n",
       "      <td>1843</td>\n",
       "      <td>1856</td>\n",
       "    </tr>\n",
       "    <tr>\n",
       "      <th>Speech rate: 60%</th>\n",
       "      <td>8526</td>\n",
       "      <td>5102</td>\n",
       "      <td>1700</td>\n",
       "      <td>1724</td>\n",
       "    </tr>\n",
       "    <tr>\n",
       "      <th>Speech rate: 70%</th>\n",
       "      <td>6833</td>\n",
       "      <td>4112</td>\n",
       "      <td>1338</td>\n",
       "      <td>1383</td>\n",
       "    </tr>\n",
       "    <tr>\n",
       "      <th>Speech rate: 80%</th>\n",
       "      <td>3590</td>\n",
       "      <td>2155</td>\n",
       "      <td>704</td>\n",
       "      <td>731</td>\n",
       "    </tr>\n",
       "    <tr>\n",
       "      <th>Speech rate: 90%</th>\n",
       "      <td>565</td>\n",
       "      <td>359</td>\n",
       "      <td>107</td>\n",
       "      <td>99</td>\n",
       "    </tr>\n",
       "  </tbody>\n",
       "</table>\n",
       "</div>"
      ],
      "text/plain": [
       "                  Dataset size  Train size  Test size  Val size\n",
       "Speech rate: 50%          9171        5472       1843      1856\n",
       "Speech rate: 60%          8526        5102       1700      1724\n",
       "Speech rate: 70%          6833        4112       1338      1383\n",
       "Speech rate: 80%          3590        2155        704       731\n",
       "Speech rate: 90%           565         359        107        99"
      ]
     },
     "execution_count": 37,
     "metadata": {},
     "output_type": "execute_result"
    }
   ],
   "source": [
    "speech_rate_data"
   ]
  },
  {
   "cell_type": "markdown",
   "metadata": {},
   "source": [
    "## Speech ratio Silero"
   ]
  },
  {
   "cell_type": "code",
   "execution_count": 24,
   "metadata": {},
   "outputs": [],
   "source": [
    "df=pd.read_csv('/home/german/Documentos/Trust/First_Impressions_Dataset/OCEAN_new_structure/experiments/audio_lists/speech_ratio_silero/df_speech_ratio_silero.csv', index_col=[0])"
   ]
  },
  {
   "cell_type": "code",
   "execution_count": 25,
   "metadata": {},
   "outputs": [
    {
     "data": {
      "text/html": [
       "<div>\n",
       "<style scoped>\n",
       "    .dataframe tbody tr th:only-of-type {\n",
       "        vertical-align: middle;\n",
       "    }\n",
       "\n",
       "    .dataframe tbody tr th {\n",
       "        vertical-align: top;\n",
       "    }\n",
       "\n",
       "    .dataframe thead th {\n",
       "        text-align: right;\n",
       "    }\n",
       "</style>\n",
       "<table border=\"1\" class=\"dataframe\">\n",
       "  <thead>\n",
       "    <tr style=\"text-align: right;\">\n",
       "      <th></th>\n",
       "      <th>name</th>\n",
       "      <th>part</th>\n",
       "      <th>speech_ratio</th>\n",
       "    </tr>\n",
       "  </thead>\n",
       "  <tbody>\n",
       "    <tr>\n",
       "      <th>0</th>\n",
       "      <td>mDRMCwSD3Ms.001.wav</td>\n",
       "      <td>Val</td>\n",
       "      <td>0.963926</td>\n",
       "    </tr>\n",
       "    <tr>\n",
       "      <th>1</th>\n",
       "      <td>nUazOUcW_AM.002.wav</td>\n",
       "      <td>Val</td>\n",
       "      <td>0.985100</td>\n",
       "    </tr>\n",
       "    <tr>\n",
       "      <th>2</th>\n",
       "      <td>8AnIttmflwI.000.wav</td>\n",
       "      <td>Val</td>\n",
       "      <td>0.938439</td>\n",
       "    </tr>\n",
       "    <tr>\n",
       "      <th>3</th>\n",
       "      <td>XB81sertsYU.004.wav</td>\n",
       "      <td>Val</td>\n",
       "      <td>0.980787</td>\n",
       "    </tr>\n",
       "    <tr>\n",
       "      <th>4</th>\n",
       "      <td>alucqviYJFE.005.wav</td>\n",
       "      <td>Val</td>\n",
       "      <td>0.864724</td>\n",
       "    </tr>\n",
       "    <tr>\n",
       "      <th>...</th>\n",
       "      <td>...</td>\n",
       "      <td>...</td>\n",
       "      <td>...</td>\n",
       "    </tr>\n",
       "    <tr>\n",
       "      <th>9993</th>\n",
       "      <td>SkNO4x-LSgE.001.wav</td>\n",
       "      <td>Test</td>\n",
       "      <td>0.949026</td>\n",
       "    </tr>\n",
       "    <tr>\n",
       "      <th>9994</th>\n",
       "      <td>QdafN9Y_j-Y.003.wav</td>\n",
       "      <td>Test</td>\n",
       "      <td>0.917266</td>\n",
       "    </tr>\n",
       "    <tr>\n",
       "      <th>9995</th>\n",
       "      <td>JJs_HTelie4.000.wav</td>\n",
       "      <td>Test</td>\n",
       "      <td>0.924324</td>\n",
       "    </tr>\n",
       "    <tr>\n",
       "      <th>9996</th>\n",
       "      <td>cWvZnl5XjwI.002.wav</td>\n",
       "      <td>Test</td>\n",
       "      <td>0.960005</td>\n",
       "    </tr>\n",
       "    <tr>\n",
       "      <th>9997</th>\n",
       "      <td>1uC-2TZqplE.003.wav</td>\n",
       "      <td>Test</td>\n",
       "      <td>0.949026</td>\n",
       "    </tr>\n",
       "  </tbody>\n",
       "</table>\n",
       "<p>9998 rows × 3 columns</p>\n",
       "</div>"
      ],
      "text/plain": [
       "                     name  part  speech_ratio\n",
       "0     mDRMCwSD3Ms.001.wav   Val      0.963926\n",
       "1     nUazOUcW_AM.002.wav   Val      0.985100\n",
       "2     8AnIttmflwI.000.wav   Val      0.938439\n",
       "3     XB81sertsYU.004.wav   Val      0.980787\n",
       "4     alucqviYJFE.005.wav   Val      0.864724\n",
       "...                   ...   ...           ...\n",
       "9993  SkNO4x-LSgE.001.wav  Test      0.949026\n",
       "9994  QdafN9Y_j-Y.003.wav  Test      0.917266\n",
       "9995  JJs_HTelie4.000.wav  Test      0.924324\n",
       "9996  cWvZnl5XjwI.002.wav  Test      0.960005\n",
       "9997  1uC-2TZqplE.003.wav  Test      0.949026\n",
       "\n",
       "[9998 rows x 3 columns]"
      ]
     },
     "execution_count": 25,
     "metadata": {},
     "output_type": "execute_result"
    }
   ],
   "source": [
    "df"
   ]
  },
  {
   "cell_type": "code",
   "execution_count": 26,
   "metadata": {},
   "outputs": [],
   "source": [
    "df_50=df[df['speech_ratio']>=0.5]\n",
    "df_60=df[df['speech_ratio']>=0.6]\n",
    "df_70=df[df['speech_ratio']>=0.7]\n",
    "df_80=df[df['speech_ratio']>=0.8]\n",
    "df_90=df[df['speech_ratio']>=0.9]\n",
    "\n",
    "list_50=df_50.name.values\n",
    "list_60=df_60.name.values\n",
    "list_70=df_70.name.values\n",
    "list_80=df_80.name.values\n",
    "list_90=df_90.name.values\n",
    "\n",
    "L_50=len(list_50)\n",
    "L_60=len(list_60)\n",
    "L_70=len(list_70)\n",
    "L_80=len(list_80)\n",
    "L_90=len(list_90)"
   ]
  },
  {
   "cell_type": "code",
   "execution_count": 27,
   "metadata": {},
   "outputs": [
    {
     "data": {
      "text/plain": [
       "[<matplotlib.lines.Line2D at 0x7f6fd99a5b10>]"
      ]
     },
     "execution_count": 27,
     "metadata": {},
     "output_type": "execute_result"
    },
    {
     "data": {
      "image/png": "[encoded data removed]",
      "text/plain": [
       "<Figure size 432x288 with 1 Axes>"
      ]
     },
     "metadata": {
      "needs_background": "light"
     },
     "output_type": "display_data"
    }
   ],
   "source": [
    "plt.plot([L_50,L_60,L_70, L_80, L_90])"
   ]
  },
  {
   "cell_type": "code",
   "execution_count": 28,
   "metadata": {},
   "outputs": [],
   "source": [
    "data={'Speech rate: 50%': [L_50, \n",
    "    df_50[df_50['part']=='Train'].shape[0],\n",
    "    df_50[df_50['part']=='Test'].shape[0], \n",
    "    df_50[df_50['part']=='Val'].shape[0]],\n",
    "    'Speech rate: 60%': [L_60, \n",
    "    df_60[df_60['part']=='Train'].shape[0],\n",
    "    df_60[df_60['part']=='Test'].shape[0], \n",
    "    df_60[df_60['part']=='Val'].shape[0]],\n",
    "    'Speech rate: 70%': [L_70, \n",
    "    df_70[df_70['part']=='Train'].shape[0],\n",
    "    df_70[df_70['part']=='Test'].shape[0], \n",
    "    df_70[df_70['part']=='Val'].shape[0]],\n",
    "    'Speech rate: 80%': [L_80, \n",
    "    df_80[df_80['part']=='Train'].shape[0],\n",
    "    df_80[df_80['part']=='Test'].shape[0], \n",
    "    df_80[df_80['part']=='Val'].shape[0]],\n",
    "    'Speech rate: 90%': [L_90, \n",
    "    df_90[df_90['part']=='Train'].shape[0],\n",
    "    df_90[df_90['part']=='Test'].shape[0], \n",
    "    df_90[df_90['part']=='Val'].shape[0]]}"
   ]
  },
  {
   "cell_type": "code",
   "execution_count": 29,
   "metadata": {},
   "outputs": [],
   "source": [
    "speech_rate_data=pd.DataFrame.from_dict(data, orient='index', columns=['Dataset size','Train size','Test size', 'Val size'])"
   ]
  },
  {
   "cell_type": "code",
   "execution_count": 30,
   "metadata": {},
   "outputs": [],
   "source": [
    "speech_rate_data.to_csv('/home/german/Documentos/Trust/First_Impressions_Dataset/OCEAN_new_structure/experiments/audio_lists/speech_ratio_silero/silero_speech_rate_data.csv')"
   ]
  },
  {
   "cell_type": "code",
   "execution_count": 31,
   "metadata": {},
   "outputs": [
    {
     "data": {
      "text/html": [
       "<div>\n",
       "<style scoped>\n",
       "    .dataframe tbody tr th:only-of-type {\n",
       "        vertical-align: middle;\n",
       "    }\n",
       "\n",
       "    .dataframe tbody tr th {\n",
       "        vertical-align: top;\n",
       "    }\n",
       "\n",
       "    .dataframe thead th {\n",
       "        text-align: right;\n",
       "    }\n",
       "</style>\n",
       "<table border=\"1\" class=\"dataframe\">\n",
       "  <thead>\n",
       "    <tr style=\"text-align: right;\">\n",
       "      <th></th>\n",
       "      <th>Dataset size</th>\n",
       "      <th>Train size</th>\n",
       "      <th>Test size</th>\n",
       "      <th>Val size</th>\n",
       "    </tr>\n",
       "  </thead>\n",
       "  <tbody>\n",
       "    <tr>\n",
       "      <th>Speech rate: 50%</th>\n",
       "      <td>9833</td>\n",
       "      <td>5904</td>\n",
       "      <td>1964</td>\n",
       "      <td>1965</td>\n",
       "    </tr>\n",
       "    <tr>\n",
       "      <th>Speech rate: 60%</th>\n",
       "      <td>9660</td>\n",
       "      <td>5797</td>\n",
       "      <td>1933</td>\n",
       "      <td>1930</td>\n",
       "    </tr>\n",
       "    <tr>\n",
       "      <th>Speech rate: 70%</th>\n",
       "      <td>9220</td>\n",
       "      <td>5522</td>\n",
       "      <td>1837</td>\n",
       "      <td>1861</td>\n",
       "    </tr>\n",
       "    <tr>\n",
       "      <th>Speech rate: 80%</th>\n",
       "      <td>8045</td>\n",
       "      <td>4817</td>\n",
       "      <td>1599</td>\n",
       "      <td>1629</td>\n",
       "    </tr>\n",
       "    <tr>\n",
       "      <th>Speech rate: 90%</th>\n",
       "      <td>5125</td>\n",
       "      <td>3066</td>\n",
       "      <td>1028</td>\n",
       "      <td>1031</td>\n",
       "    </tr>\n",
       "  </tbody>\n",
       "</table>\n",
       "</div>"
      ],
      "text/plain": [
       "                  Dataset size  Train size  Test size  Val size\n",
       "Speech rate: 50%          9833        5904       1964      1965\n",
       "Speech rate: 60%          9660        5797       1933      1930\n",
       "Speech rate: 70%          9220        5522       1837      1861\n",
       "Speech rate: 80%          8045        4817       1599      1629\n",
       "Speech rate: 90%          5125        3066       1028      1031"
      ]
     },
     "execution_count": 31,
     "metadata": {},
     "output_type": "execute_result"
    }
   ],
   "source": [
    "speech_rate_data"
   ]
  },
  {
   "cell_type": "code",
   "execution_count": 32,
   "metadata": {},
   "outputs": [],
   "source": [
    "with open ('/home/german/Documentos/Trust/First_Impressions_Dataset/OCEAN_new_structure/experiments/audio_lists/silero_speech_rate>0.5.txt','w') as file:    \n",
    "    for i in range(df_50.shape[0]):\n",
    "        filename=df_50.iloc[i]['part']+'/'+df.iloc[i]['name']\n",
    "        file.write(filename+'\\n')"
   ]
  },
  {
   "cell_type": "code",
   "execution_count": 33,
   "metadata": {},
   "outputs": [],
   "source": [
    "with open ('/home/german/Documentos/Trust/First_Impressions_Dataset/OCEAN_new_structure/experiments/audio_lists/silero_speech_rate>0.6.txt','w') as file:    \n",
    "    for i in range(df_60.shape[0]):\n",
    "        filename=df_60.iloc[i]['part']+'/'+df.iloc[i]['name']\n",
    "        file.write(filename+'\\n')"
   ]
  },
  {
   "cell_type": "code",
   "execution_count": 34,
   "metadata": {},
   "outputs": [],
   "source": [
    "with open ('/home/german/Documentos/Trust/First_Impressions_Dataset/OCEAN_new_structure/experiments/audio_lists/silero_speech_rate>0.7.txt','w') as file:    \n",
    "    for i in range(df_70.shape[0]):\n",
    "        filename=df_70.iloc[i]['part']+'/'+df.iloc[i]['name']\n",
    "        file.write(filename+'\\n')"
   ]
  },
  {
   "cell_type": "code",
   "execution_count": 35,
   "metadata": {},
   "outputs": [],
   "source": [
    "with open ('/home/german/Documentos/Trust/First_Impressions_Dataset/OCEAN_new_structure/experiments/audio_lists/silero_speech_rate>0.8.txt','w') as file:    \n",
    "    for i in range(df_80.shape[0]):\n",
    "        filename=df_50.iloc[i]['part']+'/'+df.iloc[i]['name']\n",
    "        file.write(filename+'\\n')"
   ]
  },
  {
   "cell_type": "code",
   "execution_count": 36,
   "metadata": {},
   "outputs": [],
   "source": [
    "with open ('/home/german/Documentos/Trust/First_Impressions_Dataset/OCEAN_new_structure/experiments/audio_lists/silero_speech_rate>0.9.txt','w') as file:    \n",
    "    for i in range(df_90.shape[0]):\n",
    "        filename=df_90.iloc[i]['part']+'/'+df.iloc[i]['name']\n",
    "        file.write(filename+'\\n')"
   ]
  },
  {
   "cell_type": "markdown",
   "metadata": {},
   "source": [
    "## Speech ratio + music yamnet"
   ]
  },
  {
   "cell_type": "code",
   "execution_count": 37,
   "metadata": {},
   "outputs": [],
   "source": [
    "silero_sr_50_path='/home/german/Documentos/Trust/First_Impressions_Dataset/OCEAN_new_structure/experiments/audio_lists/silero_speech_rate>0.5.txt'\n",
    "silero_sr_60_path='/home/german/Documentos/Trust/First_Impressions_Dataset/OCEAN_new_structure/experiments/audio_lists/silero_speech_rate>0.6.txt'\n",
    "silero_sr_70_path='/home/german/Documentos/Trust/First_Impressions_Dataset/OCEAN_new_structure/experiments/audio_lists/silero_speech_rate>0.7.txt'\n",
    "silero_sr_80_path='/home/german/Documentos/Trust/First_Impressions_Dataset/OCEAN_new_structure/experiments/audio_lists/silero_speech_rate>0.8.txt'\n",
    "silero_sr_90_path='/home/german/Documentos/Trust/First_Impressions_Dataset/OCEAN_new_structure/experiments/audio_lists/silero_speech_rate>0.9.txt'\n",
    "yamnet_no_music_20_path='/home/german/Documentos/Trust/First_Impressions_Dataset/OCEAN_new_structure/experiments/audio_lists/yamnet_no_music_0.2.txt'"
   ]
  },
  {
   "cell_type": "code",
   "execution_count": 38,
   "metadata": {},
   "outputs": [],
   "source": [
    "with open(silero_sr_50_path) as file:\n",
    "    silero_50_list=file.read().splitlines()\n",
    "\n",
    "with open(silero_sr_60_path) as file:\n",
    "    silero_60_list=file.read().splitlines()\n",
    "\n",
    "with open(silero_sr_70_path) as file:\n",
    "    silero_70_list=file.read().splitlines()\n",
    "\n",
    "with open(silero_sr_80_path) as file:\n",
    "    silero_80_list=file.read().splitlines()\n",
    "\n",
    "with open(silero_sr_90_path) as file:\n",
    "    silero_90_list=file.read().splitlines()\n",
    "\n",
    "with open(yamnet_no_music_20_path) as file:\n",
    "    yamnet_no_music_20_list=file.read().splitlines()"
   ]
  },
  {
   "cell_type": "code",
   "execution_count": 39,
   "metadata": {},
   "outputs": [],
   "source": [
    "with open('/home/german/Documentos/Trust/First_Impressions_Dataset/OCEAN_new_structure/experiments/audio_lists/yamnet_no_music_20+speech_rate_>0.5.txt','w') as file:\n",
    "    for sample in yamnet_no_music_20_list:\n",
    "        name=sample+'.wav'\n",
    "        if name in silero_50_list:\n",
    "            file.write(name+'\\n')"
   ]
  },
  {
   "cell_type": "code",
   "execution_count": 40,
   "metadata": {},
   "outputs": [],
   "source": [
    "with open('/home/german/Documentos/Trust/First_Impressions_Dataset/OCEAN_new_structure/experiments/audio_lists/yamnet_no_music_20+speech_rate_>0.6.txt','w') as file:\n",
    "    for sample in yamnet_no_music_20_list:\n",
    "        name=sample+'.wav'\n",
    "        if name in silero_60_list:\n",
    "            file.write(name+'\\n')"
   ]
  },
  {
   "cell_type": "code",
   "execution_count": 41,
   "metadata": {},
   "outputs": [],
   "source": [
    "with open('/home/german/Documentos/Trust/First_Impressions_Dataset/OCEAN_new_structure/experiments/audio_lists/yamnet_no_music_20+speech_rate_>0.7.txt','w') as file:\n",
    "    for sample in yamnet_no_music_20_list:\n",
    "        name=sample+'.wav'\n",
    "        if name in silero_70_list:\n",
    "            file.write(name+'\\n')"
   ]
  },
  {
   "cell_type": "code",
   "execution_count": 42,
   "metadata": {},
   "outputs": [],
   "source": [
    "with open('/home/german/Documentos/Trust/First_Impressions_Dataset/OCEAN_new_structure/experiments/audio_lists/yamnet_no_music_20+speech_rate_>0.8.txt','w') as file:\n",
    "    for sample in yamnet_no_music_20_list:\n",
    "        name=sample+'.wav'\n",
    "        if name in silero_80_list:\n",
    "            file.write(name+'\\n')"
   ]
  },
  {
   "cell_type": "code",
   "execution_count": 43,
   "metadata": {},
   "outputs": [],
   "source": [
    "with open('/home/german/Documentos/Trust/First_Impressions_Dataset/OCEAN_new_structure/experiments/audio_lists/yamnet_no_music_20+speech_rate_>0.9.txt','w') as file:\n",
    "    for sample in yamnet_no_music_20_list:\n",
    "        name=sample+'.wav'\n",
    "        if name in silero_90_list:\n",
    "            file.write(name+'\\n')"
   ]
  }
 ],
 "metadata": {
  "interpreter": {
   "hash": "d29ee2a6b024b3ef0af2f29a3df7b0f54a5cbf6eee460d08c8941f471b385dbe"
  },
  "kernelspec": {
   "display_name": "Python 3.10.4",
   "language": "python",
   "name": "python3"
  },
  "language_info": {
   "codemirror_mode": {
    "name": "ipython",
    "version": 3
   },
   "file_extension": ".py",
   "mimetype": "text/x-python",
   "name": "python",
   "nbconvert_exporter": "python",
   "pygments_lexer": "ipython3",
   "version": "3.10.5"
  },
  "orig_nbformat": 4
 },
 "nbformat": 4,
 "nbformat_minor": 2
}
