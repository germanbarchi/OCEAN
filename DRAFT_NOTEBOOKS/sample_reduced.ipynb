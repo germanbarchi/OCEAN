{
 "cells": [
  {
   "cell_type": "code",
   "execution_count": 1,
   "metadata": {},
   "outputs": [],
   "source": [
    "import pandas as pd\n",
    "from sklearn.utils import resample\n",
    "import os"
   ]
  },
  {
   "cell_type": "code",
   "execution_count": 27,
   "metadata": {},
   "outputs": [],
   "source": [
    "df=pd.read_csv('../experiments/egemaps/random_forest/default/all_audio/local_data/egemaps_new_partition_all_audio-all_audio_complete_set.csv',index_col=0)\n",
    "df_new_partitions=pd.read_csv('../data/new_partitions/dataset_new_partitions.csv')\n",
    "\n",
    "df_train=df_new_partitions[df_new_partitions['part_new']=='Train'].drop_duplicates(subset='basename')\n",
    "df_val=df_new_partitions[df_new_partitions['part_new']=='Val'].drop_duplicates(subset='basename')\n",
    "\n",
    "n_train=300\n",
    "n_val=60\n",
    "\n",
    "# Sample per video \n",
    "\n",
    "train = resample(df_train, replace=True, n_samples=n_train)\n",
    "val = resample(df_val, replace=True, n_samples=n_val)\n",
    "\n",
    "train_all=df[df['audio_tag'].str.contains('|'.join(train.basename.values))]\n",
    "val_all=df[df['audio_tag'].str.contains('|'.join(val.basename.values))]"
   ]
  }
 ],
 "metadata": {
  "interpreter": {
   "hash": "d29ee2a6b024b3ef0af2f29a3df7b0f54a5cbf6eee460d08c8941f471b385dbe"
  },
  "kernelspec": {
   "display_name": "Python 3.10.5",
   "language": "python",
   "name": "python3"
  },
  "language_info": {
   "codemirror_mode": {
    "name": "ipython",
    "version": 3
   },
   "file_extension": ".py",
   "mimetype": "text/x-python",
   "name": "python",
   "nbconvert_exporter": "python",
   "pygments_lexer": "ipython3",
   "version": "3.10.5"
  },
  "orig_nbformat": 4
 },
 "nbformat": 4,
 "nbformat_minor": 2
}
