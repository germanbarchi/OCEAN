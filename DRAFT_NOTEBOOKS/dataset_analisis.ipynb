{
 "cells": [
  {
   "cell_type": "markdown",
   "metadata": {},
   "source": [
    "Se analizan las dimensiones de las particiones de cada lista "
   ]
  },
  {
   "cell_type": "code",
   "execution_count": 25,
   "metadata": {},
   "outputs": [],
   "source": [
    "yamnet_no_music_20='../experiments/audio_lists/yamnet_no_music_0.2.txt'\n",
    "yamnet_no_music_10='../experiments/audio_lists/yamnet_no_music_0.1.txt'\n",
    "yamnet_music_20='../experiments/audio_lists/yamnet_music_0.2.txt'\n",
    "yamnet_music_10='../experiments/audio_lists/yamnet_music_0.1.txt'\n",
    "yamnet_sr_50='../experiments/audio_lists/yamnet_no_music_20+speech_rate_0.5.txt'\n",
    "yamnet_sr_60='../experiments/audio_lists/yamnet_no_music_20+speech_rate_0.6.txt'\n",
    "yamnet_sr_70='../experiments/audio_lists/yamnet_no_music_20+speech_rate_0.7.txt'\n",
    "yamnet_sr_80='../experiments/audio_lists/yamnet_no_music_20+speech_rate_0.8.txt'\n",
    "yamnet_sr_90='../experiments/audio_lists/yamnet_no_music_20+speech_rate_0.9.txt'"
   ]
  },
  {
   "cell_type": "code",
   "execution_count": 26,
   "metadata": {},
   "outputs": [],
   "source": [
    "lists=['yamnet_no_music_20','yamnet_no_music_10','yamnet_music_20','yamnet_music_10','yamnet_sr_50',\n",
    "'yamnet_sr_60','yamnet_sr_70','yamnet_sr_80','yamnet_sr_90']"
   ]
  },
  {
   "cell_type": "code",
   "execution_count": 27,
   "metadata": {},
   "outputs": [],
   "source": [
    "dict_={}\n",
    "\n",
    "for list in lists:\n",
    "    with open (globals()[list]) as file:\n",
    "        a=file.read().splitlines()\n",
    "    dict_[list]=a"
   ]
  },
  {
   "cell_type": "code",
   "execution_count": 37,
   "metadata": {},
   "outputs": [
    {
     "name": "stdout",
     "output_type": "stream",
     "text": [
      "Cantidad de archivos en yamnet_no_music_20: 8908\n",
      "Cantidad de archivos en Train: 5332\n",
      "Cantidad de archivos en Val: 1798\n",
      "\n",
      "Cantidad de archivos en yamnet_no_music_10: 8335\n",
      "Cantidad de archivos en Train: 4984\n",
      "Cantidad de archivos en Val: 1682\n",
      "\n",
      "Cantidad de archivos en yamnet_music_20: 1092\n",
      "Cantidad de archivos en Train: 668\n",
      "Cantidad de archivos en Val: 202\n",
      "\n",
      "Cantidad de archivos en yamnet_music_10: 1665\n",
      "Cantidad de archivos en Train: 1016\n",
      "Cantidad de archivos en Val: 318\n",
      "\n",
      "Cantidad de archivos en yamnet_sr_50: 8617\n",
      "Cantidad de archivos en Train: 5219\n",
      "Cantidad de archivos en Val: 1766\n",
      "\n",
      "Cantidad de archivos en yamnet_sr_60: 8309\n",
      "Cantidad de archivos en Train: 5092\n",
      "Cantidad de archivos en Val: 1734\n",
      "\n",
      "Cantidad de archivos en yamnet_sr_70: 7541\n",
      "Cantidad de archivos en Train: 4781\n",
      "Cantidad de archivos en Val: 1669\n",
      "\n",
      "Cantidad de archivos en yamnet_sr_80: 7026\n",
      "Cantidad de archivos en Train: 5219\n",
      "Cantidad de archivos en Val: 1766\n",
      "\n",
      "Cantidad de archivos en yamnet_sr_90: 2781\n",
      "Cantidad de archivos en Train: 1864\n",
      "Cantidad de archivos en Val: 917\n",
      "\n"
     ]
    }
   ],
   "source": [
    "for list_type in lists:\n",
    "    j=0\n",
    "    k=0\n",
    "    for i in dict_[list_type]:\n",
    "        part=i.split('/')[0]\n",
    "        if part=='Val':\n",
    "            j+=1\n",
    "        elif part=='Train':\n",
    "            k+=1\n",
    "    print('Cantidad de archivos en %s: %d' % (list_type,(len(dict_[list_type]))))\n",
    "    print('Cantidad de archivos en Train: %d\\nCantidad de archivos en Val: %d\\n' % (k,j))"
   ]
  },
  {
   "cell_type": "code",
   "execution_count": null,
   "metadata": {},
   "outputs": [],
   "source": []
  }
 ],
 "metadata": {
  "interpreter": {
   "hash": "d29ee2a6b024b3ef0af2f29a3df7b0f54a5cbf6eee460d08c8941f471b385dbe"
  },
  "kernelspec": {
   "display_name": "Python 3.10.5",
   "language": "python",
   "name": "python3"
  },
  "language_info": {
   "codemirror_mode": {
    "name": "ipython",
    "version": 3
   },
   "file_extension": ".py",
   "mimetype": "text/x-python",
   "name": "python",
   "nbconvert_exporter": "python",
   "pygments_lexer": "ipython3",
   "version": "3.10.5"
  },
  "orig_nbformat": 4
 },
 "nbformat": 4,
 "nbformat_minor": 2
}
