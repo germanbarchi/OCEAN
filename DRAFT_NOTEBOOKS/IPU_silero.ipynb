{
 "cells": [
  {
   "cell_type": "code",
   "execution_count": 1,
   "metadata": {},
   "outputs": [],
   "source": [
    "import json\n",
    "import librosa\n",
    "import numpy as np\n",
    "import soundfile as sf\n",
    "import os"
   ]
  },
  {
   "cell_type": "code",
   "execution_count": 6,
   "metadata": {},
   "outputs": [
    {
     "name": "stdout",
     "output_type": "stream",
     "text": [
      "6\n",
      "5184\n",
      "3648\n",
      "6720\n",
      "5184\n",
      "5184\n"
     ]
    }
   ],
   "source": [
    "def trim(json_path,base_path,out_path,fs):\n",
    "\n",
    "    filename=json_path.split('/')[-1].replace('.JSON','.wav')\n",
    "    part=json_path.split('/')[-2]\n",
    "\n",
    "    y,fs=librosa.core.load(base_path+'/'.join((part,filename)), sr=fs)\n",
    "\n",
    "    with open (json_path) as jsonfile:\n",
    "        dict=json.load(jsonfile)\n",
    "    \n",
    "    n_segment=0 \n",
    "\n",
    "    final=np.array([])\n",
    "    segment=np.array([])\n",
    "    print(len(dict))\n",
    "    for i in range(len(dict)-1):      \n",
    "                   \n",
    "        start=int(dict[i]['start'])\n",
    "        end=int(dict[i]['end'])\n",
    "                \n",
    "        speech=y[start:end]      \n",
    "   \n",
    "        pause_end=int(dict[i+1]['start'])\n",
    "        pause_init=int(dict[i]['end'])\n",
    "                \n",
    "        no_speech=y[pause_init:pause_end]\n",
    "        \n",
    "        speech_next=y[dict[i+1]['start']:dict[i+1]['end']] \n",
    "\n",
    "        pause_duration=pause_end-pause_init \n",
    "        \n",
    "        if pause_duration < IPU:\n",
    "            print(pause_duration)\n",
    "            segment=np.append(speech,no_speech)\n",
    "            final=np.append(final,segment)\n",
    "            \n",
    "            if i==len(dict)-2:\n",
    "                final=np.append(final,speech_next)\n",
    "                sf.write(out_path+part+'/%s_%d.wav'% (filename.replace('.wav',''),n_segment),final,fs)\n",
    "        else:              \n",
    "            print(pause_duration)\n",
    "            n_segment+=1                \n",
    "            final=np.append(final,speech)\n",
    "\n",
    "            if not os.path.exists(out_path+part):\n",
    "                os.makedirs(out_path+part)\n",
    "\n",
    "            sf.write(out_path+part+'/%s_%d.wav'% (filename.replace('.wav',''),n_segment),final,fs)\n",
    "            \n",
    "            final=np.array([])\n",
    "\n",
    "            if i==len(dict)-2:\n",
    "                n_segment+=1 \n",
    "                sf.write(out_path+part+'/%s_%d.wav' % (filename.replace('.wav',''),n_segment),speech_next,fs)\n",
    "\n",
    "if __name__=='__main__':\n",
    "\n",
    "    json_path='/home/german/Documentos/Trust/First_Impressions_Dataset/OCEAN_new_structure/data/silero/timestamps/Val/4VwcU0ROy5k.005.JSON'\n",
    "    base_path='/home/german/Documentos/Trust/First_Impressions_Dataset/OCEAN_new_structure/data/audio/'\n",
    "    out_path='/home/german/Documentos/Trust/First_Impressions_Dataset/OCEAN_new_structure/data/test_ipu_silero/'    \n",
    "     \n",
    "    fs=16000\n",
    "    pause_threshold=0.25    \n",
    "    IPU=pause_threshold*fs\n",
    "\n",
    "    trim(json_path,base_path,out_path,fs)"
   ]
  },
  {
   "cell_type": "code",
   "execution_count": 72,
   "metadata": {},
   "outputs": [],
   "source": [
    "i=0\n",
    "for a in dict:\n",
    "    y,fs=librosa.core.load('/home/german/Documentos/Trust/First_Impressions_Dataset/OCEAN_new_structure/data/audio/Test/_0bg1TLPP-I.000.wav', sr=fs)\n",
    "    out=y[a['start']:a['end']]\n",
    "    sf.write(out_path+'Test'+'/_%d.wav' % (i),out,fs)\n",
    "    i+=1"
   ]
  },
  {
   "cell_type": "code",
   "execution_count": null,
   "metadata": {},
   "outputs": [],
   "source": []
  }
 ],
 "metadata": {
  "kernelspec": {
   "display_name": "Trust-Python",
   "language": "python",
   "name": "trust"
  },
  "language_info": {
   "codemirror_mode": {
    "name": "ipython",
    "version": 3
   },
   "file_extension": ".py",
   "mimetype": "text/x-python",
   "name": "python",
   "nbconvert_exporter": "python",
   "pygments_lexer": "ipython3",
   "version": "3.10.4"
  }
 },
 "nbformat": 4,
 "nbformat_minor": 2
}
