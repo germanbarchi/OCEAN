{
 "cells": [
  {
   "cell_type": "code",
   "execution_count": null,
   "metadata": {},
   "outputs": [],
   "source": [
    "import glob\n",
    "import pandas as pd\n",
    "import warnings\n",
    "import os\n",
    "import shutil\n",
    "\n",
    "audio_paths=glob.glob('../data/audio/*/*.wav')\n",
    "\n",
    "df=pd.DataFrame()\n",
    "\n",
    "warnings.filterwarnings('ignore')\n",
    "\n",
    "for i,path in enumerate(audio_paths):\n",
    "    filename=path.split('/')[-1]\n",
    "    basename=filename.split('.')[0]\n",
    "    part=path.split('/')[-2]\n",
    "    df.loc[i,'partition']=part\n",
    "    df.loc[i,'filename']=filename\n",
    "    df.loc[i,'basename']=basename\n",
    "\n",
    "\n",
    "df=df.drop_duplicates(subset='basename')\n",
    "\n",
    "audios_out_path='/home/german/Documentos/Trust/First_Impressions_Dataset/OCEAN_new_structure/data/audio_reduced_dataset'\n",
    "audios_path='/home/german/Documentos/Trust/First_Impressions_Dataset/OCEAN_new_structure/data/audio'\n",
    "\n",
    "for i in df.index:\n",
    "    part=df.loc[i,'partition']\n",
    "    file_path=os.path.join(audios_path,part,filename)\n",
    "    parent=audios_out_path+'/'+part\n",
    "    if not os.path.exists(parent):\n",
    "        os.makedirs(parent) \n",
    "\n",
    "    file_out_path=os.path.join(parent,filename)\n",
    "    shutil.copy(file_path, file_out_path)"
   ]
  }
 ],
 "metadata": {
  "language_info": {
   "name": "python"
  },
  "orig_nbformat": 4
 },
 "nbformat": 4,
 "nbformat_minor": 2
}
